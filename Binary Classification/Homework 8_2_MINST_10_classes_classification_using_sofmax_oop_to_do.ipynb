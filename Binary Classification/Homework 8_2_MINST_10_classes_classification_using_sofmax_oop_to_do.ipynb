{
 "cells": [
  {
   "cell_type": "markdown",
   "metadata": {},
   "source": [
    "## Homework 8_2_MINST_10_classes_classification_using_sofmax_oop_to_do"
   ]
  },
  {
   "cell_type": "code",
   "execution_count": 4,
   "metadata": {},
   "outputs": [],
   "source": [
    "import numpy as np\n",
    "\n",
    "class SofmaxRegression:\n",
    "    def __init__(self, learning_rate=0.00001, n_iters=1000):\n",
    "        self.lr = learning_rate\n",
    "        self.n_iters = n_iters\n",
    "        self.weights = None\n",
    "        \n",
    "    def softmax(self, logits):\n",
    "        logits  = np.subtract(logits, np.max(logits)) # prevent overflow\n",
    "        exponentials = np.exp(logits)                 # N x 10\n",
    "        return exponentials / np.sum(exponentials, axis=1).reshape(-1, 1)  # N x 10 / N x 1 = N x 10 \n",
    "\n",
    "    def forward(self, X):\n",
    "        weighted_sum = np.matmul(X, self.w)\n",
    "        return self.softmax(weighted_sum)\n",
    "\n",
    "    def predict(self, X):\n",
    "        y_hat = self.forward(X)\n",
    "        labels = np.argmax(y_hat, axis=1)\n",
    "        return labels.reshape(-1, 1)\n",
    "\n",
    "    def loss(self, X, Y):\n",
    "        y_hat = self.forward(X)\n",
    "        return -np.sum(Y*np.log(y_hat)) / X.shape[0]\n",
    "\n",
    "    def gradient(self, X, Y):\n",
    "        return np.matmul(X.T, (self.forward(X) - Y)) / X.shape[0]\n",
    "    \n",
    "    def report(self, iteration, X, Y):\n",
    "        # self.predict(X).shape 是 N x 1, 但是\n",
    "        # Y_train.shape 是 N x 10, 必須在水平方向找到最大值後再變成 N x 1\n",
    "        matches = np.count_nonzero(self.predict(X) == np.argmax(Y, axis=1).reshape(-1,1))\n",
    "        n_test_examples = Y.shape[0]\n",
    "        matches = matches*100.0/n_test_examples\n",
    "        training_loss = self.loss(X,Y)\n",
    "        print(\"%d - Loss: %.20f, %.2f%%\" % (iteration, training_loss, matches))\n",
    "    \n",
    "    def fit(self, X, Y):\n",
    "\n",
    "        self.w  =np.zeros((X.shape[1], Y.shape[1]))\n",
    "        for i in range(self.n_iters):\n",
    "            if i % 20 == 0:\n",
    "                self.report(i,X,Y)         \n",
    "            self.w-= self.gradient(X,Y)*self.lr\n",
    "        self.report(self.n_iters, X, Y)\n",
    "        return self.w "
   ]
  },
  {
   "cell_type": "code",
   "execution_count": 5,
   "metadata": {},
   "outputs": [],
   "source": [
    "# Load the MINST data and prepare the training and testing data sets\n",
    "import gzip\n",
    "import struct\n",
    "\n",
    "def load_images(filename):\n",
    "    # Open and unzip the file of images:\n",
    "    with gzip.open(filename, 'rb') as f:\n",
    "        # Read the header information into a bunch of variables:\n",
    "        _ignored, n_images, columns, rows = struct.unpack('>IIII', f.read(16)):\n",
    "        all_pixels = np.frombuffer(f.read(), dtype=np.uint8)\n",
    "        # Reshape the pixels into a matrix where each line is an image:\n",
    "        return all_pixels.reshape(n_images, columns * rows)\n",
    "\n",
    "def prepend_bias(X):\n",
    "    # Insert a column of 1s in the position 0 of X.\n",
    "    # (“axis=1” stands for: “insert a column, not a row”)\n",
    "    return np.insert(X, 0, 1, axis=1)\n",
    "\n",
    "def load_labels(filename):\n",
    "    # Open and unzip the file of images:\n",
    "    with gzip.open(filename, 'rb') as f:\n",
    "        # Skip the header bytes:\n",
    "        f.read(8)\n",
    "        # Read all the labels into a list:\n",
    "        all_labels = f.read()\n",
    "        # Reshape the list of labels into a one-column matrix:\n",
    "        return np.frombuffer(all_labels, dtype=np.uint8).reshape(-1, 1)\n",
    "\n",
    "def one_hot_encode(Y):\n",
    "    n_labels = Y.shape[0]\n",
    "    n_classes = 10\n",
    "    encoded_Y = np.zeros((n_labels, n_classes))\n",
    "    for i in range(n_labels):\n",
    "        label = Y[i]\n",
    "        encoded_Y[i][label] = 1\n",
    "    return encoded_Y\n",
    "    \n",
    "x_train = load_images(\"train-images-idx3-ubyte.gz\")\n",
    "x_test  = load_images(\"t10k-images-idx3-ubyte.gz\")\n",
    "\n",
    "# 60000 , each 785 elements (1 bias + 28 * 28 pixels), X_train is (60000,785) \n",
    "X_train = prepend_bias(x_train)\n",
    "\n",
    "# 10000 , each 785 elements, with the same structure as X_train, X_test is (10000,785) \n",
    "X_test = prepend_bias(x_test)\n",
    "\n",
    "# 60K labels,  from 0 to 9\n",
    "Y_train_unencoded = load_labels(\"train-labels-idx1-ubyte.gz\")\n",
    "\n",
    "\n",
    "Y_train = one_hot_encode(Y_train_unencoded)\n",
    "Y_test = load_labels(\"t10k-labels-idx1-ubyte.gz\")"
   ]
  },
  {
   "cell_type": "code",
   "execution_count": 6,
   "metadata": {},
   "outputs": [
    {
     "name": "stdout",
     "output_type": "stream",
     "text": [
      "0 - Loss: 2.30258509299404368065, 9.87%\n",
      "20 - Loss: 0.55231327116040196401, 86.44%\n",
      "40 - Loss: 0.45615562085755945176, 88.16%\n",
      "60 - Loss: 0.41619338585117832130, 88.88%\n",
      "80 - Loss: 0.39283271098835054191, 89.43%\n",
      "100 - Loss: 0.37704729586459978519, 89.73%\n",
      "120 - Loss: 0.36545374914806788569, 90.00%\n",
      "140 - Loss: 0.35646518998592963134, 90.18%\n",
      "160 - Loss: 0.34922649590937787645, 90.37%\n",
      "180 - Loss: 0.34323080755386409235, 90.53%\n",
      "200 - Loss: 0.33815601481437285170, 90.62%\n",
      "Testing accuracy: 91.10%\n"
     ]
    }
   ],
   "source": [
    "# Testing\n",
    "\n",
    "clf = SofmaxRegression(learning_rate=0.00001, n_iters=200)\n",
    "clf.fit(X_train, Y_train)\n",
    "predictions = clf.predict(X_test)\n",
    "Accuracy = np.count_nonzero(predictions == Y_test)* 100.0 /Y_test.shape[0]\n",
    "print(\"Testing accuracy: %.2f%%\" % (Accuracy))"
   ]
  },
  {
   "cell_type": "code",
   "execution_count": null,
   "metadata": {},
   "outputs": [],
   "source": []
  },
  {
   "cell_type": "code",
   "execution_count": null,
   "metadata": {},
   "outputs": [],
   "source": []
  }
 ],
 "metadata": {
  "kernelspec": {
   "display_name": "Python 3.10.8 64-bit (microsoft store)",
   "language": "python",
   "name": "python3"
  },
  "language_info": {
   "codemirror_mode": {
    "name": "ipython",
    "version": 3
   },
   "file_extension": ".py",
   "mimetype": "text/x-python",
   "name": "python",
   "nbconvert_exporter": "python",
   "pygments_lexer": "ipython3",
   "version": "3.10.8"
  },
  "vscode": {
   "interpreter": {
    "hash": "5e3cc65feb8c1a7f24ab3852f011e129c099772a24ef31268d6a22d6e5b7a516"
   }
  }
 },
 "nbformat": 4,
 "nbformat_minor": 4
}
