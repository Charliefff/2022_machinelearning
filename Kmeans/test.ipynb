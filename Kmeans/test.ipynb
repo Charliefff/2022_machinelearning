{
 "cells": [
  {
   "cell_type": "code",
   "execution_count": 3,
   "metadata": {},
   "outputs": [],
   "source": [
    "import csv\n",
    "import pandas as pd\n",
    "from sklearn.datasets import make_moons\n",
    "import numpy as np \n",
    "#    X, y = make_moons(100, random_state=123)\n",
    "df = pd.read_csv('X.csv', header=None, skiprows=0, dtype=np.float32)  \n",
    "X = df.to_numpy()\n",
    "clusters=2\n"
   ]
  },
  {
   "cell_type": "code",
   "execution_count": 5,
   "metadata": {},
   "outputs": [
    {
     "name": "stdout",
     "output_type": "stream",
     "text": [
      "             0         1\n",
      "0     0.283950 -0.630630\n",
      "1    -0.198030  0.618050\n",
      "2     0.311380  0.610000\n",
      "3     0.086885  0.533740\n",
      "4     0.313070  0.369390\n",
      "...        ...       ...\n",
      "1487  0.348840  0.039147\n",
      "1488  0.604570 -0.328920\n",
      "1489 -0.662620  0.786480\n",
      "1490 -0.021091  1.262500\n",
      "1491 -0.389510 -1.212400\n",
      "\n",
      "[1492 rows x 2 columns]\n",
      "[[ 0.28395  -0.63063 ]\n",
      " [-0.19803   0.61805 ]\n",
      " [ 0.31138   0.61    ]\n",
      " ...\n",
      " [-0.66262   0.78648 ]\n",
      " [-0.021091  1.2625  ]\n",
      " [-0.38951  -1.2124  ]]\n"
     ]
    }
   ],
   "source": [
    "print(df)\n",
    "print(X)"
   ]
  }
 ],
 "metadata": {
  "kernelspec": {
   "display_name": "Python 3.10.8 64-bit (microsoft store)",
   "language": "python",
   "name": "python3"
  },
  "language_info": {
   "codemirror_mode": {
    "name": "ipython",
    "version": 3
   },
   "file_extension": ".py",
   "mimetype": "text/x-python",
   "name": "python",
   "nbconvert_exporter": "python",
   "pygments_lexer": "ipython3",
   "version": "3.10.8"
  },
  "orig_nbformat": 4,
  "vscode": {
   "interpreter": {
    "hash": "efd71c79c7a8ed7e2e6ea7880ca39791cb24c303d26270a10635bc4d8604a30a"
   }
  }
 },
 "nbformat": 4,
 "nbformat_minor": 2
}
