{
 "cells": [
  {
   "cell_type": "code",
   "execution_count": 15,
   "metadata": {},
   "outputs": [],
   "source": [
    "import numpy as np\n",
    "#read pic turn gray\n",
    "import cv2 \n",
    "from PIL import Image, ImageOps\n",
    "import matplotlib.pyplot as plt\n",
    "import pandas as pd \n",
    "from sklearn.model_selection import train_test_split"
   ]
  },
  {
   "cell_type": "code",
   "execution_count": 21,
   "metadata": {},
   "outputs": [],
   "source": [
    "data = pd.read_csv('all_data_info.csv', header=None)"
   ]
  },
  {
   "cell_type": "code",
   "execution_count": 24,
   "metadata": {},
   "outputs": [],
   "source": [
    "x = data.iloc[:, 0]\n",
    "y = data.iloc[:, 1]\n",
    "x_train, x_test, y_train, y_test = train_test_split(x, y, train_size=0.7)\n"
   ]
  },
  {
   "cell_type": "code",
   "execution_count": null,
   "metadata": {},
   "outputs": [],
   "source": [
    "imgs = []\n",
    "for i in x_train:\n",
    "    img = cv2.imread('imgs/{}'.format(i)) \n",
    "    img = cv2.cvtColor(src=img, code=cv2.COLOR_BGR2GRAY)\n",
    "    new = img[0:99, 0:92]\n",
    "    imgs.append(new)\n",
    "    plt.imshow(new, cmap='gray')"
   ]
  },
  {
   "cell_type": "code",
   "execution_count": 80,
   "metadata": {},
   "outputs": [],
   "source": [
    "def Gabor_filter(k_size = 111, sigma = 10, gamma = 1.2, Lambda = 10, psi = 0, angle = 0):\n",
    "    mid = k_size // 2 # Kernel 中心點\n",
    "    gabor = np.zeros((k_size, k_size), dtype = np.float32) #建立空的kernel\n",
    "    \n",
    "    for y in range(k_size):\n",
    "        for x in range(k_size):\n",
    "            px = x - mid\n",
    "            py = y - mid\n",
    "            \n",
    "            theta = angle * np.pi / 180.\n",
    "            \n",
    "            x_1 = np.cos(theta) * px + np.sin(theta) * py\n",
    "            y_1 = -np.sin(theta) * px + np.cos(theta) * py\n",
    "            \n",
    "            term_1 = np.exp(-(x_1**2 + gamma**2 * y_1**2) / (2 * sigma**2))\n",
    "            term_2 = np.cos(2 * np.pi*x_1/Lambda + psi)\n",
    "            gabor[y, x] = term_1 * term_2\n",
    "    \n",
    "    gabor = gabor / np.sum(np.abs(gabor))\n",
    "    return gabor"
   ]
  },
  {
   "cell_type": "code",
   "execution_count": 99,
   "metadata": {},
   "outputs": [
    {
     "data": {
      "text/plain": [
       "<matplotlib.image.AxesImage at 0x194abaf1c40>"
      ]
     },
     "execution_count": 99,
     "metadata": {},
     "output_type": "execute_result"
    },
    {
     "data": {
      "image/png": "[encoded data removed]",
      "text/plain": [
       "<Figure size 640x480 with 4 Axes>"
      ]
     },
     "metadata": {},
     "output_type": "display_data"
    }
   ],
   "source": [
    "kernel_1 = Gabor_filter(k_size = 21, sigma = 4, gamma = 1.0, Lambda = 7., angle = 0)\n",
    "kernel_2 = Gabor_filter(k_size = 21, sigma = 4, gamma = 1.0, Lambda = 7., angle = 90)\n",
    "kernel_3 = Gabor_filter(k_size = 21, sigma = 4, gamma = 1.0, Lambda = 7., angle = 45)\n",
    "kernel_4 = Gabor_filter(k_size = 21, sigma = 4, gamma = 1.0, Lambda = 7., angle = 135)\n",
    "\n",
    "plt.figure()\n",
    "plt.subplot(221)\n",
    "plt.imshow(kernel_1, cmap='gray')\n",
    "plt.subplot(222)\n",
    "plt.imshow(kernel_2, cmap='gray')\n",
    "plt.subplot(223)\n",
    "plt.imshow(kernel_3, cmap='gray')\n",
    "plt.subplot(224)\n",
    "plt.imshow(kernel_4, cmap='gray')"
   ]
  },
  {
   "cell_type": "code",
   "execution_count": null,
   "metadata": {},
   "outputs": [],
   "source": []
  }
 ],
 "metadata": {
  "kernelspec": {
   "display_name": "base",
   "language": "python",
   "name": "python3"
  },
  "language_info": {
   "codemirror_mode": {
    "name": "ipython",
    "version": 3
   },
   "file_extension": ".py",
   "mimetype": "text/x-python",
   "name": "python",
   "nbconvert_exporter": "python",
   "pygments_lexer": "ipython3",
   "version": "3.9.13 (main, Aug 25 2022, 23:51:50) [MSC v.1916 64 bit (AMD64)]"
  },
  "orig_nbformat": 4,
  "vscode": {
   "interpreter": {
    "hash": "16196ea7eff63910081d4e10ae1bdb1eb18fd83cb470bb8efbb9fa6b0c724af5"
   }
  }
 },
 "nbformat": 4,
 "nbformat_minor": 2
}
