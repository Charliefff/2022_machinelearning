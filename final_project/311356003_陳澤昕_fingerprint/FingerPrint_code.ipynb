{
 "cells": [
  {
   "cell_type": "markdown",
   "id": "ffe81ef4",
   "metadata": {},
   "source": [
    "# 載入模塊"
   ]
  },
  {
   "cell_type": "code",
   "execution_count": 264,
   "id": "af4be184",
   "metadata": {},
   "outputs": [],
   "source": [
    "import os\n",
    "import cv2\n",
    "from sklearn.ensemble import RandomForestClassifier as RF\n",
    "from sklearn.svm import SVC\n",
    "from scipy import signal\n",
    "import pandas as pd\n",
    "import matplotlib.pyplot as plt\n",
    "from sklearn.metrics import make_scorer\n",
    "from sklearn.metrics import roc_curve, auc\n",
    "from sklearn.base import BaseEstimator\n",
    "from sklearn.base import ClassifierMixin\n",
    "from sklearn.preprocessing import LabelEncoder\n",
    "from sklearn.base import clone\n",
    "from sklearn.pipeline import _name_estimators\n",
    "import operator\n",
    "from sklearn import datasets\n",
    "from sklearn.preprocessing import StandardScaler\n",
    "from sklearn.preprocessing import LabelEncoder\n",
    "from sklearn.model_selection import train_test_split\n",
    "import numpy as np\n",
    "from sklearn.linear_model import LogisticRegression\n",
    "from sklearn.tree import DecisionTreeClassifier\n",
    "from sklearn.neighbors import KNeighborsClassifier \n",
    "from sklearn.pipeline import Pipeline\n",
    "from sklearn.model_selection import cross_val_score\n",
    "from sklearn.discriminant_analysis import LinearDiscriminantAnalysis as LDA"
   ]
  },
  {
   "cell_type": "code",
   "execution_count": 265,
   "id": "150e55d6",
   "metadata": {},
   "outputs": [],
   "source": [
    "\n",
    "def ROC_and_AUC(label, score, name):\n",
    "    fpr, tpr , _ = roc_curve(label, score)\n",
    "    roc_auc = auc(fpr, tpr)\n",
    "    name = name + '_auc = ' + str(roc_auc.round(3))\n",
    "    lw = 2\n",
    "    plt.plot(fpr, tpr, lw = lw, label = name)\n",
    "    plt.xlim([0.0, 1.0])\n",
    "    plt.ylim([0.0, 1.05])\n",
    "    plt.xlabel('False Positive Rate')\n",
    "    plt.ylabel('True Positive Rate')\n",
    "    plt.title('ROC curve')\n",
    "    plt.legend(loc = \"lower right\")"
   ]
  },
  {
   "attachments": {},
   "cell_type": "markdown",
   "id": "a18200e4",
   "metadata": {},
   "source": [
    "# 整理所有檔名與標記"
   ]
  },
  {
   "cell_type": "code",
   "execution_count": 266,
   "id": "a6ca159f",
   "metadata": {},
   "outputs": [
    {
     "data": {
      "image/png": "[encoded data removed]",
      "text/plain": [
       "<Figure size 640x480 with 1 Axes>"
      ]
     },
     "metadata": {},
     "output_type": "display_data"
    }
   ],
   "source": [
    "data = pd.read_csv('all_data_info.csv', header=None)\n",
    "x = data.iloc[:, 0]\n",
    "y = data.iloc[:, 2]\n",
    "x_train, x_test, y_train, y_test = train_test_split(x, y, train_size=0.8, random_state=1)\n",
    "imgs = []\n",
    "for i in x_train:\n",
    "    img = cv2.imread('imgs/{}'.format(i)) \n",
    "    img = cv2.cvtColor(src=img, code=cv2.COLOR_BGR2GRAY)\n",
    "    new = img[0:99, 0:92]\n",
    "    imgs.append(new)\n",
    "    plt.imshow(new, cmap='gray')"
   ]
  },
  {
   "cell_type": "markdown",
   "id": "7b98dcdb",
   "metadata": {},
   "source": [
    "# 定義Gabor濾波器"
   ]
  },
  {
   "cell_type": "code",
   "execution_count": 267,
   "id": "3282ae13",
   "metadata": {},
   "outputs": [],
   "source": [
    "# x_train = x\n",
    "# y_train = y"
   ]
  },
  {
   "cell_type": "code",
   "execution_count": 268,
   "id": "564eb5e6",
   "metadata": {},
   "outputs": [],
   "source": [
    "def Gabor_filter(k_size = 111, sigma = 10, gamma = 1.2, Lambda = 10, psi = 0, angle = 0):\n",
    "    mid = k_size // 2 # Kernel 中心點\n",
    "    gabor = np.zeros((k_size, k_size), dtype = np.float32) #建立空的kernel\n",
    "    \n",
    "    for y in range(k_size):\n",
    "        for x in range(k_size):\n",
    "            px = x - mid\n",
    "            py = y - mid\n",
    "            \n",
    "            theta = angle * np.pi / 180.\n",
    "            \n",
    "            x_1 = np.cos(theta) * px + np.sin(theta) * py\n",
    "            y_1 = -np.sin(theta) * px + np.cos(theta) * py\n",
    "            \n",
    "            term_1 = np.exp(-(x_1**2 + gamma**2 * y_1**2) / (2 * sigma**2))\n",
    "            term_2 = np.cos(2 * np.pi*x_1/Lambda + psi)\n",
    "            gabor[y, x] = term_1 * term_2\n",
    "    \n",
    "    gabor = gabor / np.sum(np.abs(gabor))\n",
    "    return gabor"
   ]
  },
  {
   "cell_type": "markdown",
   "id": "1814881f",
   "metadata": {},
   "source": [
    "# 設定 Gabor 濾波器"
   ]
  },
  {
   "cell_type": "code",
   "execution_count": 269,
   "id": "bfff6b44",
   "metadata": {},
   "outputs": [],
   "source": [
    "all_filter = []\n",
    "\n",
    "angles = np.arange(0, 180, 30)\n",
    "Lambdas = [3, 5, 7]\n",
    "sigma = [3, 7 , 10]\n",
    "gamma = [0.1, 1]\n",
    "for la in Lambdas:\n",
    "    for ang in angles:\n",
    "        for sig in sigma :\n",
    "            for gam in gamma:\n",
    "                all_filter.append(Gabor_filter(k_size = 11,  sigma =sig, gamma = gam , Lambda = la , angle = ang))\n",
    "\n",
    "size = len(angles)* len(Lambdas)* len(sigma)*len(gamma)"
   ]
  },
  {
   "cell_type": "code",
   "execution_count": 270,
   "id": "76389576",
   "metadata": {},
   "outputs": [],
   "source": [
    "all_feature = np.zeros((x_train.shape[0], size))\n",
    "\n",
    "for i in range(x_train.shape[0]):\n",
    "    img = cv2.imread('imgs/{}'.format(x_train.iloc[i]))\n",
    "    img = cv2.cvtColor(src=img, code=cv2.COLOR_BGR2GRAY)\n",
    "\n",
    "    img = (img - np.mean(img)) / np.std(img)\n",
    "    \n",
    "    for j in range(size):\n",
    "        feature_map = signal.convolve2d(img, all_filter[j], mode='same')\n",
    "        all_feature[i, j] = np.mean(feature_map)\n",
    "            \n",
    "feature_mean = np.mean(all_feature, axis=0)\n",
    "feature_std = np.std(all_feature, axis=0)\n",
    "norm_feature = (all_feature - feature_mean) / feature_std\n",
    "\n",
    "test_feature = np.zeros((x_test.shape[0], size))\n",
    "\n",
    "for i in range(x_test.shape[0]):\n",
    "\n",
    "    img = cv2.imread('imgs/{}'.format(x_test.iloc[i])) \n",
    "    img = cv2.cvtColor(src=img, code=cv2.COLOR_BGR2GRAY)\n",
    "    img = (img - np.mean(img)) / np.std(img)\n",
    "    \n",
    "    for j in range(size):\n",
    "        feature_map = signal.convolve2d(img, all_filter[j], mode='same')\n",
    "        test_feature[i, j] = np.mean(feature_map)\n",
    "            \n",
    "norm_test_feature = (test_feature - feature_mean) / feature_std"
   ]
  },
  {
   "cell_type": "code",
   "execution_count": 271,
   "id": "77ce69d6",
   "metadata": {},
   "outputs": [
    {
     "name": "stdout",
     "output_type": "stream",
     "text": [
      "106\n"
     ]
    }
   ],
   "source": [
    "from scipy.stats import mannwhitneyu\n",
    "\n",
    "c_p_value = []\n",
    "\n",
    "for i in range(norm_feature.shape[1]):\n",
    "    value1=[]\n",
    "    value0=[]\n",
    "    for j in range(norm_feature.shape[0]):\n",
    "        y_label = y_train.iloc[j]\n",
    "        if y_label == y_train.iloc[0]:\n",
    "            value0.append(all_feature[j, i])\n",
    "        else:\n",
    "            value1.append(all_feature[j, i])\n",
    "    result = mannwhitneyu(value0, value1, alternative='two-sided') \n",
    "    c_p_value.append(result[1])\n",
    "    label = []\n",
    "for i in range(len(c_p_value)):\n",
    "    if c_p_value[i] < 0.05:\n",
    "        label.append(i)\n",
    "print(len(label))\n",
    "\n"
   ]
  },
  {
   "cell_type": "code",
   "execution_count": 272,
   "id": "45d315b1",
   "metadata": {},
   "outputs": [],
   "source": [
    "new_norm_feature = norm_feature[:, label]\n",
    "new_norm_test_feature = norm_test_feature[:, label]\n",
    "X_train = new_norm_feature\n",
    "X_test = new_norm_test_feature\n",
    "\n",
    "def onehot(y):\n",
    "    new_y = []\n",
    "    for i in range(len(y)):\n",
    "        if y.iloc[i] == y_train.iloc[0]:\n",
    "            new_y.append(0)\n",
    "        else:\n",
    "            new_y.append(1)\n",
    "    return new_y\n",
    "new_y_train = onehot(y_train)\n",
    "new_y_test = onehot(y_test)"
   ]
  },
  {
   "cell_type": "code",
   "execution_count": 273,
   "id": "d5070b91",
   "metadata": {},
   "outputs": [
    {
     "name": "stdout",
     "output_type": "stream",
     "text": [
      "Fitting 5 folds for each of 38 candidates, totalling 190 fits\n"
     ]
    }
   ],
   "source": [
    "from sklearn.model_selection import GridSearchCV\n",
    "param_grid = { 'n_neighbors':np.arange(3, 40, 2), \n",
    "              'p' : [1, 2]\n",
    "              }\n",
    "\n",
    "optimal_params = GridSearchCV(\n",
    "    KNeighborsClassifier(metric='minkowski'),\n",
    "    param_grid,\n",
    "    cv = 5,\n",
    "    scoring = 'accuracy',\n",
    "    verbose = 1,\n",
    "    n_jobs = -1,\n",
    "  )\n",
    "\n",
    "optimal_params.fit(new_norm_feature, y_train)\n",
    "n_nei = optimal_params.best_params_['n_neighbors']\n",
    "P = optimal_params.best_params_['p']\n"
   ]
  },
  {
   "cell_type": "code",
   "execution_count": 274,
   "id": "cd81068a",
   "metadata": {},
   "outputs": [
    {
     "name": "stdout",
     "output_type": "stream",
     "text": [
      "Fitting 5 folds for each of 84 candidates, totalling 420 fits\n"
     ]
    }
   ],
   "source": [
    "param_grid = { 'max_depth' :np.arange(3, 10, 1),\n",
    "              'splitter' : ['best', 'random'],\n",
    "              'min_samples_leaf' : np.arange(5, 10, 2),\n",
    "              'criterion':['entropy', 'gini']\n",
    "              }\n",
    "\n",
    "optimal_params = GridSearchCV(\n",
    "    DecisionTreeClassifier(random_state=0),\n",
    "    param_grid,\n",
    "    cv = 5,\n",
    "    scoring = 'accuracy',\n",
    "    verbose = 1,\n",
    "    n_jobs = -1,\n",
    "  )\n",
    "\n",
    "optimal_params.fit(new_norm_feature, y_train)\n",
    "Max_depth = optimal_params.best_params_['max_depth']\n",
    "Splitter = optimal_params.best_params_['splitter']\n",
    "Min_sample = optimal_params.best_params_['min_samples_leaf']\n",
    "Criteration = optimal_params.best_params_['criterion']"
   ]
  },
  {
   "cell_type": "code",
   "execution_count": 275,
   "id": "83b11682",
   "metadata": {},
   "outputs": [
    {
     "name": "stdout",
     "output_type": "stream",
     "text": [
      "Fitting 5 folds for each of 8 candidates, totalling 40 fits\n"
     ]
    }
   ],
   "source": [
    "from sklearn.model_selection import GridSearchCV\n",
    "param_grid = { 'C':[0.1, 1, 5, 10],\n",
    "              'kernel':['linear', 'rbf']\n",
    "              \n",
    "              }\n",
    "\n",
    "optimal_params = GridSearchCV(\n",
    "    SVC(gamma='auto' , max_iter=-1),\n",
    "    param_grid,\n",
    "    cv = 5,\n",
    "    scoring = 'accuracy',\n",
    "    verbose = 1,\n",
    "    n_jobs = -1,\n",
    "  )\n",
    "\n",
    "optimal_params.fit(new_norm_feature, y_train)\n",
    "SVC_C = optimal_params.best_params_['C']\n",
    "Kernal = optimal_params.best_params_['kernel']\n"
   ]
  },
  {
   "cell_type": "code",
   "execution_count": 276,
   "id": "0722e748",
   "metadata": {},
   "outputs": [
    {
     "name": "stdout",
     "output_type": "stream",
     "text": [
      "Fitting 5 folds for each of 16 candidates, totalling 80 fits\n"
     ]
    }
   ],
   "source": [
    "param_grid = { 'C' : [1, 0.1, 0.01, 0.001], \n",
    "              'penalty': ['l1', 'l2'], \n",
    "              'solver' : ['saga', 'liblinear']\n",
    "              }\n",
    "\n",
    "optimal_params = GridSearchCV(\n",
    "    LogisticRegression(random_state=1, max_iter=10000),\n",
    "    param_grid,\n",
    "    cv = 5,\n",
    "    scoring = 'accuracy',\n",
    "    verbose = 1,\n",
    "    n_jobs = -1,\n",
    "  )\n",
    "\n",
    "optimal_params.fit(new_norm_feature, y_train)\n",
    "c = optimal_params.best_params_['C']\n",
    "Penalty = optimal_params.best_params_['penalty']\n",
    "Solver = optimal_params.best_params_['solver']\n"
   ]
  },
  {
   "cell_type": "code",
   "execution_count": 277,
   "id": "db2aa59c",
   "metadata": {},
   "outputs": [],
   "source": [
    "\n",
    "class MajorityVoteClassifier(BaseEstimator, \n",
    "                             ClassifierMixin):\n",
    "\n",
    "    def __init__(self, classifiers, vote='classlabel', weights=None):\n",
    "\n",
    "        self.classifiers = classifiers\n",
    "        self.named_classifiers = {key: value for key, value\n",
    "                                  in _name_estimators(classifiers)}\n",
    "        self.vote = vote\n",
    "        self.weights = weights\n",
    "\n",
    "    def fit(self, X, y):\n",
    "\n",
    "        if self.vote not in ('probability', 'classlabel'):\n",
    "            raise ValueError(f\"vote must be 'probability' or 'classlabel'\"\n",
    "                             f\"; got (vote={self.vote})\")\n",
    "\n",
    "        if self.weights and len(self.weights) != len(self.classifiers):\n",
    "            raise ValueError(f'Number of classifiers and weights must be equal'\n",
    "                             f'; got {len(self.weights)} weights,'\n",
    "                             f' {len(self.classifiers)} classifiers')\n",
    "\n",
    "        # Use LabelEncoder to ensure class labels start with 0, which\n",
    "        # is important for np.argmax call in self.predict\n",
    "        self.lablenc_ = LabelEncoder()\n",
    "        self.lablenc_.fit(y)\n",
    "        self.classes_ = self.lablenc_.classes_\n",
    "        self.classifiers_ = []\n",
    "        for clf in self.classifiers:\n",
    "            fitted_clf = clone(clf).fit(X, self.lablenc_.transform(y))\n",
    "            self.classifiers_.append(fitted_clf)\n",
    "        return self\n",
    "\n",
    "    def predict(self, X):\n",
    "\n",
    "\n",
    "        if self.vote == 'probability':\n",
    "            maj_vote = np.argmax(self.predict_proba(X), axis=1)\n",
    "        else:  # 'classlabel' vote\n",
    "\n",
    "            #  Collect results from clf.predict calls\n",
    "            predictions = np.asarray([clf.predict(X)\n",
    "                                      for clf in self.classifiers_]).T\n",
    "\n",
    "            maj_vote = np.apply_along_axis(\n",
    "                                      lambda x:\n",
    "                                      np.argmax(np.bincount(x,\n",
    "                                                weights=self.weights)),\n",
    "                                      axis=1,\n",
    "                                      arr=predictions)\n",
    "        maj_vote = self.lablenc_.inverse_transform(maj_vote)\n",
    "        return maj_vote\n",
    "\n",
    "    def predict_proba(self, X):\n",
    "\n",
    "        probas = np.asarray([clf.predict_proba(X)\n",
    "                             for clf in self.classifiers_])\n",
    "        avg_proba = np.average(probas, axis=0, weights=self.weights)\n",
    "        return avg_proba\n",
    "\n",
    "    def get_params(self, deep=True):\n",
    "\n",
    "        if not deep:\n",
    "            return super().get_params(deep=False)\n",
    "        else:\n",
    "            out = self.named_classifiers.copy()\n",
    "            for name, step in self.named_classifiers.items():\n",
    "                for key, value in step.get_params(deep=True).items():\n",
    "                    out[f'{name}__{key}'] = value\n",
    "            return out"
   ]
  },
  {
   "cell_type": "code",
   "execution_count": 278,
   "id": "76b4fd5f",
   "metadata": {},
   "outputs": [
    {
     "name": "stdout",
     "output_type": "stream",
     "text": [
      "10-fold cross validation:\n",
      "\n",
      "ROC AUC: 0.68 (+/- 0.06) [Logistic regression]\n",
      "ROC AUC: 0.67 (+/- 0.07) [Decision tree]\n",
      "ROC AUC: 0.69 (+/- 0.05) [KNN]\n",
      "ROC AUC: 0.69 (+/- 0.06) [SVC]\n",
      "ROC AUC: 0.69 (+/- 0.05) [LDR]\n",
      "top3 model\n",
      " 4    pipe5\n",
      "2    pipe3\n",
      "3    pipe4\n",
      "Name: label, dtype: object\n"
     ]
    }
   ],
   "source": [
    "acc = []\n",
    "\n",
    "clf1 = LogisticRegression(max_iter=10000, C= c, penalty= Penalty, solver= Solver, random_state=1)\n",
    "\n",
    "clf2 = DecisionTreeClassifier(criterion= Criteration , max_depth= Max_depth, min_samples_leaf= Min_sample, splitter= Splitter, random_state=0)\n",
    "\n",
    "clf3 = KNeighborsClassifier(n_neighbors=n_nei,p=P,metric='minkowski')\n",
    "\n",
    "clf4 = SVC(probability=True, kernel=Kernal, C=SVC_C)\n",
    "\n",
    "clf5 = LDA(solver='eigen', shrinkage = 'auto')\n",
    "\n",
    "pipe1 = Pipeline([['sc', StandardScaler()],\n",
    "                  ['clf', clf1]])\n",
    "pipe3 = Pipeline([['sc', StandardScaler()],\n",
    "                  ['clf', clf3]])\n",
    "pipe4 = Pipeline([['sc', StandardScaler()],\n",
    "                  ['clf', clf4]])\n",
    "pipe5 = Pipeline([['sc', StandardScaler()],\n",
    "                  ['clf', clf5]])\n",
    "\n",
    "clf_labels = ['Logistic regression', 'Decision tree', 'KNN', 'SVC', 'LDR']\n",
    "\n",
    "print('10-fold cross validation:\\n')\n",
    "for clf, label in zip([pipe1, clf2, pipe3, pipe4, pipe5], clf_labels):\n",
    "    scores = cross_val_score(estimator=clf,\n",
    "                             X=X_train,\n",
    "                             y=new_y_train ,\n",
    "                             cv=10,\n",
    "                             scoring='roc_auc')\n",
    "    print(f'ROC AUC: {scores.mean():.2f} '\n",
    "          f'(+/- {scores.std():.2f}) [{label}]')\n",
    "    acc.append(scores.mean())\n",
    "\n",
    "    \n",
    "pd_acc = pd.DataFrame(acc)\n",
    "label = pd.DataFrame({'label': 'pipe1 clf2 pipe3 pipe4 pipe5'.split()})\n",
    "pd_acc.insert(label.shape[1], 'label',  label)\n",
    "sortpd = pd_acc.sort_values(0)\n",
    "\n",
    "print('top3 model\\n', sortpd.iloc[2:5, 1])\n",
    "\n"
   ]
  },
  {
   "cell_type": "code",
   "execution_count": 279,
   "id": "2564a5ed",
   "metadata": {},
   "outputs": [
    {
     "name": "stdout",
     "output_type": "stream",
     "text": [
      "ROC AUC: 0.68 (+/- 0.06) [Logistic regression]\n",
      "ROC AUC: 0.67 (+/- 0.07) [Decision tree]\n",
      "ROC AUC: 0.69 (+/- 0.05) [KNN]\n",
      "ROC AUC: 0.69 (+/- 0.06) [SVC]\n",
      "ROC AUC: 0.69 (+/- 0.05) [LDR]\n",
      "ROC AUC: 0.71 (+/- 0.05) [Majority voting]\n"
     ]
    },
    {
     "data": {
      "image/png": "[encoded data removed]",
      "text/plain": [
       "<Figure size 640x480 with 1 Axes>"
      ]
     },
     "metadata": {},
     "output_type": "display_data"
    }
   ],
   "source": [
    "mv_clf = MajorityVoteClassifier(classifiers=[pipe1, pipe4, pipe5, clf2, pipe3])\n",
    "clf_labels += ['Majority voting']\n",
    "all_clf = [pipe1, clf2, pipe3, pipe4, pipe5, mv_clf]\n",
    "\n",
    "for clf, label in zip(all_clf, clf_labels):\n",
    "    scores = cross_val_score(estimator=clf,\n",
    "                             X=X_train,\n",
    "                             y=new_y_train ,\n",
    "                             cv=10,\n",
    "                             scoring='roc_auc')\n",
    "    print(f'ROC AUC: {scores.mean():.2f} '\n",
    "          f'(+/- {scores.std():.2f}) [{label}]')\n",
    "from sklearn.metrics import roc_curve\n",
    "from sklearn.metrics import auc\n",
    "\n",
    "\n",
    "colors = ['black', 'orange', 'blue', 'green', 'yellow', 'red']\n",
    "linestyles = [':', '--', '--', '--', '--', 'solid']\n",
    "for clf, label, clr, ls \\\n",
    "        in zip(all_clf,\n",
    "               clf_labels, colors, linestyles):\n",
    "\n",
    "    # assuming the label of the positive class is 1\n",
    "    y_pred = clf.fit(X_train,\n",
    "                     new_y_train ).predict_proba(X_test)[:, 1]\n",
    "    fpr, tpr, thresholds = roc_curve(y_true=new_y_test ,\n",
    "                                     y_score=y_pred)\n",
    "    roc_auc = auc(x=fpr, y=tpr)\n",
    "    plt.plot(fpr, tpr,\n",
    "             color=clr,\n",
    "             linestyle=ls,\n",
    "             label=f'{label} (auc = {roc_auc:.2f})')\n",
    "\n",
    "plt.legend(loc='lower right')\n",
    "plt.plot([0, 1], [0, 1],\n",
    "         linestyle='--',\n",
    "         color='gray',\n",
    "         linewidth=2)\n",
    "\n",
    "plt.xlim([-0.1, 1.1])\n",
    "plt.ylim([-0.1, 1.1])\n",
    "plt.grid(alpha=0.5)\n",
    "plt.xlabel('False positive rate (FPR)')\n",
    "plt.ylabel('True positive rate (TPR)')\n",
    "\n",
    "\n",
    "#plt.savefig('figures/07_04', dpi=300)\n",
    "plt.show()\n"
   ]
  },
  {
   "cell_type": "code",
   "execution_count": 280,
   "id": "846cdc6f",
   "metadata": {},
   "outputs": [],
   "source": [
    "testing = pd.read_csv('FingerPrint_test_20230104/all_test_info.csv', header=None)\n",
    "imgs = []\n",
    "test_name = testing.iloc[:, 0]"
   ]
  },
  {
   "cell_type": "code",
   "execution_count": 281,
   "id": "345913fc",
   "metadata": {},
   "outputs": [],
   "source": [
    "test_feature = np.zeros((x_test.shape[0], size))\n",
    "\n",
    "for i in range(x_test.shape[0]):\n",
    "\n",
    "    img = cv2.imread('imgs/{}'.format(x_test.iloc[i])) \n",
    "    img = cv2.cvtColor(src=img, code=cv2.COLOR_BGR2GRAY)\n",
    "    img = (img - np.mean(img)) / np.std(img)\n",
    "    \n",
    "    for j in range(size):\n",
    "        feature_map = signal.convolve2d(img, all_filter[j], mode='same')\n",
    "        test_feature[i, j] = np.mean(feature_map)\n",
    "            \n",
    "norm_test_feature = (test_feature - feature_mean) / feature_std"
   ]
  },
  {
   "cell_type": "code",
   "execution_count": 282,
   "id": "e104808f",
   "metadata": {},
   "outputs": [],
   "source": [
    "test_all_feature = np.zeros((test_name.shape[0], size))\n",
    "\n",
    "for i in range(test_name.shape[0]):\n",
    "    img = cv2.imread('FingerPrint_test_20230104/imgs/{}'.format(test_name.iloc[i])) \n",
    "    img = cv2.cvtColor(src=img, code=cv2.COLOR_BGR2GRAY)\n",
    "    img = (img - np.mean(img)) / np.std(img)\n",
    "    \n",
    "    for j in range(size):\n",
    "        feature_map = signal.convolve2d(img, all_filter[j], mode='same')\n",
    "        test_all_feature[i, j] = np.mean(feature_map)\n",
    "            \n",
    "\n",
    "test_norm_feature = (test_all_feature - feature_mean) / feature_std\n"
   ]
  },
  {
   "cell_type": "code",
   "execution_count": 283,
   "id": "804adbda",
   "metadata": {},
   "outputs": [],
   "source": [
    "label = []\n",
    "for i in range(len(c_p_value)):\n",
    "    if c_p_value[i] < 0.05:\n",
    "        label.append(i)\n",
    "new_test_norm_featuer = test_norm_feature[:, label]"
   ]
  },
  {
   "cell_type": "code",
   "execution_count": 284,
   "id": "aa7f8070",
   "metadata": {},
   "outputs": [],
   "source": [
    "ans = mv_clf.predict(new_test_norm_featuer)"
   ]
  },
  {
   "cell_type": "code",
   "execution_count": 285,
   "id": "bcd1b879",
   "metadata": {},
   "outputs": [
    {
     "data": {
      "text/plain": [
       "'Right'"
      ]
     },
     "execution_count": 285,
     "metadata": {},
     "output_type": "execute_result"
    }
   ],
   "source": [
    "y_train.iloc[0]"
   ]
  },
  {
   "cell_type": "code",
   "execution_count": 286,
   "id": "54b1ed01",
   "metadata": {},
   "outputs": [],
   "source": [
    "Ans = []\n",
    "for i in ans:\n",
    "    if i == 0:\n",
    "        Ans.append('M')\n",
    "    else:\n",
    "        Ans.append('F')"
   ]
  },
  {
   "cell_type": "markdown",
   "id": "37400fdf",
   "metadata": {},
   "source": [
    "# 輸出CSV檔"
   ]
  },
  {
   "cell_type": "code",
   "execution_count": 287,
   "id": "d710fa2b",
   "metadata": {},
   "outputs": [],
   "source": [
    "#import csv\n",
    "# test_info_list = []\n",
    "# for i in range(100):\n",
    "#     file_name = 'T' + str(i+1).zfill(3) + '.BMP'\n",
    "#     test_info_list.append([file_name, Ans[i]])\n",
    "\n",
    "# with open('final_ans_fingerprintGender.csv', 'w', newline='') as csvfile:\n",
    "#     writer = csv.writer(csvfile)\n",
    "#     writer.writerows(test_info_list)"
   ]
  }
 ],
 "metadata": {
  "kernelspec": {
   "display_name": "base",
   "language": "python",
   "name": "python3"
  },
  "language_info": {
   "codemirror_mode": {
    "name": "ipython",
    "version": 3
   },
   "file_extension": ".py",
   "mimetype": "text/x-python",
   "name": "python",
   "nbconvert_exporter": "python",
   "pygments_lexer": "ipython3",
   "version": "3.9.13"
  },
  "vscode": {
   "interpreter": {
    "hash": "16196ea7eff63910081d4e10ae1bdb1eb18fd83cb470bb8efbb9fa6b0c724af5"
   }
  }
 },
 "nbformat": 4,
 "nbformat_minor": 5
}
