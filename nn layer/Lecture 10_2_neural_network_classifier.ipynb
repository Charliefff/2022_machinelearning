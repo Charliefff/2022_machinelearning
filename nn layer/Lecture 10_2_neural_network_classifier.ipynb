{
 "cells": [
  {
   "cell_type": "markdown",
   "metadata": {},
   "source": [
    "# Chapter 12: How Classifiers Work (2 of 2)\n",
    "\n",
    "Paolo Perrotta, Programming Machine Learning: From Coding to Deep Learning (2020)"
   ]
  },
  {
   "cell_type": "markdown",
   "metadata": {},
   "source": [
    "The source code for this chapter is split over two notebooks. This is the second one, about the decision boundary and the model of neural network."
   ]
  },
  {
   "cell_type": "markdown",
   "metadata": {},
   "source": [
    "## Load Data"
   ]
  },
  {
   "cell_type": "markdown",
   "metadata": {},
   "source": [
    "Execute one of the next three cells, to load one of the three datasets."
   ]
  },
  {
   "cell_type": "code",
   "execution_count": 26,
   "metadata": {},
   "outputs": [],
   "source": [
    "import numpy as np\n",
    "# x1, x2, y = np.loadtxt('linearly_separable.txt', skiprows=1, unpack=True)\n",
    "x1, x2, y = np.loadtxt('non_linearly_separable.txt', skiprows=1, unpack=True)\n",
    "#x1, x2, y = np.loadtxt('circles.txt', skiprows=1, unpack=True)"
   ]
  },
  {
   "cell_type": "markdown",
   "metadata": {},
   "source": [
    "## Neural Network"
   ]
  },
  {
   "cell_type": "code",
   "execution_count": 27,
   "metadata": {},
   "outputs": [],
   "source": [
    "# A neural network implementation.\n",
    "\n",
    "def sigmoid(z):\n",
    "    return 1 / (1 + np.exp(-z))"
   ]
  },
  {
   "cell_type": "code",
   "execution_count": 28,
   "metadata": {},
   "outputs": [],
   "source": [
    "\"\"\"\n",
    "The first line in softmax() calculates the exponentials of the logits. \n",
    "The second line divides each exponential by the sum of all the exponentials on the same row. \n",
    "The parameter axis=1 means: “calculate the sum by row, not over the entire matrix.” \n",
    "Before doing the division, we must reshape the sums into a one-column matrix, Otherwise, \n",
    "NumPy complains that it cannot divide a matrix by a one-dimensional array.\n",
    "\"\"\" \n",
    "def softmax(logits):\n",
    "    exponentials = np.exp(logits)\n",
    "    return exponentials / np.sum(exponentials, axis=1).reshape(-1, 1)\n",
    "\n",
    "def prepend_bias(X):\n",
    "    return np.insert(X, 0, 1, axis=1)"
   ]
  },
  {
   "attachments": {
    "image.png": {
     "image/png": "[encoded data removed]"
    }
   },
   "cell_type": "markdown",
   "metadata": {},
   "source": [
    "![image.png](attachment:image.png)"
   ]
  },
  {
   "cell_type": "code",
   "execution_count": 29,
   "metadata": {},
   "outputs": [],
   "source": [
    "def forward(X, w1, w2):\n",
    "    h = sigmoid(np.matmul(prepend_bias(X), w1))\n",
    "    y_hat = softmax(np.matmul(prepend_bias(h), w2))\n",
    "    return (y_hat, h)\n",
    "\n",
    "def loss(Y, y_hat):\n",
    "    return -np.sum(Y * np.log(y_hat)+(1-Y)* np.log(1-y_hat))/ Y.shape[0]"
   ]
  },
  {
   "cell_type": "code",
   "execution_count": 30,
   "metadata": {},
   "outputs": [],
   "source": [
    "def sigmoid_gradient(sigmoid):\n",
    "    return np.multiply(sigmoid, (1 - sigmoid))\n",
    "\n",
    "\"\"\"\n",
    "X.shape[0] is the number of rows in X, that is, the number of examples in the training set. \n",
    "This division is there because the matrix multiplication gives us the accumulated\n",
    "gradient over all the examples. Because we want the average gradient, we have\n",
    "to divide the result of the multiplication by the size of the training set.\n",
    "\"\"\"\n",
    "\n",
    "def back(X, Y, y_hat, w2, h):\n",
    "    dw2 = np.matmul(prepend_bias(h).T, (y_hat - Y)) / X.shape[0]\n",
    "    dh  = np.matmul(y_hat - Y, w2[1:].T)\n",
    "    da  = dh * sigmoid_gradient(h)\n",
    "    dw1 = np.matmul(prepend_bias(X).T, da)/X.shape[0]\n",
    "    \n",
    "#    dW1 = np.matmul(prepend_bias(X).T, np.matmul(y_hat-Y, w2[1:].T)* sigmoid_gradient(h))/X.shape[0]\n",
    "    return (dw1, dw2)\n",
    "\n",
    "\n",
    "def classify(X, w1, w2):\n",
    "    y_hat, _ = forward(X, w1, w2)\n",
    "    labels = np.argmax(y_hat, axis=1)\n",
    "    return labels.reshape(-1, 1)\n",
    "\n",
    "\"\"\"\n",
    "We should initialize weights with values that are:\n",
    "• Random (to break symmetry)\n",
    "• Small (to speed up training and avoid dead neurons)\n",
    "The absolute value of each weight shouldn’t be much bigger than the square root of the inverse of rows. \n",
    "As the weight matrix gets bigger, individual weights should become smaller.\n",
    "\n",
    "\"\"\"\n",
    "\n",
    "def initialize_weights(n_input_variables, n_hidden_nodes, n_classes):\n",
    "    w1_rows = n_input_variables + 1\n",
    "    w1 = np.random.randn(w1_rows, n_hidden_nodes) * np.sqrt(1 / w1_rows)\n",
    "\n",
    "    w2_rows = n_hidden_nodes + 1\n",
    "    w2 = np.random.randn(w2_rows, n_classes) * np.sqrt(1 / w2_rows)\n",
    "\n",
    "    return (w1, w2)\n",
    "\n",
    "\n",
    "def report(iteration, X_train, Y_train, X_test, Y_test, w1, w2):\n",
    "    y_hat, _ = forward(X_train, w1, w2)\n",
    "    training_loss = loss(Y_train, y_hat)\n",
    "    classifications = classify(X_test, w1, w2)\n",
    "    accuracy = np.average(classifications == Y_test) * 100.0\n",
    "    if iteration % 5000 == 0:\n",
    "        print(\"Iteration: %5d, Loss: %.8f, Accuracy: %.2f%%\" %\n",
    "              (iteration, training_loss, accuracy))\n",
    "\n",
    "\n",
    "def train(X_train, Y_train, X_test, Y_test, n_hidden_nodes, iterations, lr):\n",
    "    n_input_variables = X_train.shape[1]\n",
    "    n_classes = Y_train.shape[1]\n",
    "    w1, w2 = initialize_weights(n_input_variables, n_hidden_nodes, n_classes)\n",
    "    for iteration in range(iterations):\n",
    "        y_hat, h = forward(X_train, w1, w2)\n",
    "        w1_gradient, w2_gradient = back(X_train, Y_train, y_hat, w2, h)\n",
    "        w1 = w1 - (w1_gradient * lr)\n",
    "        w2 = w2 - (w2_gradient * lr)\n",
    "        report(iteration, X_train, Y_train, X_test, Y_test, w1, w2)\n",
    "    return (w1, w2)\n"
   ]
  },
  {
   "cell_type": "markdown",
   "metadata": {},
   "source": [
    "## Train Neural Network"
   ]
  },
  {
   "cell_type": "code",
   "execution_count": 31,
   "metadata": {},
   "outputs": [],
   "source": [
    "def one_hot_encode(Y):\n",
    "    n_labels = Y.shape[0]\n",
    "    result = np.zeros((n_labels, 2))\n",
    "    for i in range(n_labels):\n",
    "        result[i][Y[i]] = 1\n",
    "    return result"
   ]
  },
  {
   "cell_type": "code",
   "execution_count": 32,
   "metadata": {},
   "outputs": [
    {
     "name": "stdout",
     "output_type": "stream",
     "text": [
      "<class 'numpy.ndarray'>\n"
     ]
    }
   ],
   "source": [
    "print(type(y))"
   ]
  },
  {
   "cell_type": "code",
   "execution_count": 33,
   "metadata": {},
   "outputs": [],
   "source": [
    "X_train = X_test = np.column_stack((x1, x2))\n",
    "Y_train_unencoded = Y_test = y.astype(int).reshape(-1, 1)\n",
    "Y_train = one_hot_encode(Y_train_unencoded)"
   ]
  },
  {
   "cell_type": "code",
   "execution_count": 34,
   "metadata": {},
   "outputs": [
    {
     "data": {
      "text/plain": [
       "(300, 2)"
      ]
     },
     "execution_count": 34,
     "metadata": {},
     "output_type": "execute_result"
    }
   ],
   "source": [
    "X_train.shape"
   ]
  },
  {
   "cell_type": "code",
   "execution_count": 35,
   "metadata": {},
   "outputs": [
    {
     "data": {
      "text/plain": [
       "(300, 2)"
      ]
     },
     "execution_count": 35,
     "metadata": {},
     "output_type": "execute_result"
    }
   ],
   "source": [
    "Y_train.shape"
   ]
  },
  {
   "cell_type": "code",
   "execution_count": 36,
   "metadata": {},
   "outputs": [
    {
     "name": "stdout",
     "output_type": "stream",
     "text": [
      "Iteration:     0, Loss: 1.65091425, Accuracy: 36.00%\n",
      "Iteration:  5000, Loss: 0.61487455, Accuracy: 90.00%\n",
      "Iteration: 10000, Loss: 0.43991862, Accuracy: 94.00%\n",
      "Iteration: 15000, Loss: 0.42868441, Accuracy: 94.67%\n",
      "Iteration: 20000, Loss: 0.41821908, Accuracy: 94.00%\n",
      "Iteration: 25000, Loss: 0.40324282, Accuracy: 93.33%\n",
      "Iteration: 30000, Loss: 0.38461620, Accuracy: 93.00%\n",
      "Iteration: 35000, Loss: 0.36943227, Accuracy: 93.00%\n",
      "Iteration: 40000, Loss: 0.34891431, Accuracy: 93.67%\n",
      "Iteration: 45000, Loss: 0.32316729, Accuracy: 94.33%\n",
      "Iteration: 50000, Loss: 0.30068053, Accuracy: 95.00%\n",
      "Iteration: 55000, Loss: 0.28441632, Accuracy: 95.67%\n",
      "Iteration: 60000, Loss: 0.27143789, Accuracy: 95.67%\n",
      "Iteration: 65000, Loss: 0.25929083, Accuracy: 95.67%\n"
     ]
    },
    {
     "name": "stderr",
     "output_type": "stream",
     "text": [
      "C:\\Users\\BioXGEM\\AppData\\Local\\Temp\\ipykernel_18472\\3868217288.py:7: RuntimeWarning: divide by zero encountered in log\n",
      "  return -np.sum(Y * np.log(y_hat)+(1-Y)* np.log(1-y_hat))/ Y.shape[0]\n",
      "C:\\Users\\BioXGEM\\AppData\\Local\\Temp\\ipykernel_18472\\3868217288.py:7: RuntimeWarning: invalid value encountered in multiply\n",
      "  return -np.sum(Y * np.log(y_hat)+(1-Y)* np.log(1-y_hat))/ Y.shape[0]\n"
     ]
    },
    {
     "name": "stdout",
     "output_type": "stream",
     "text": [
      "Iteration: 70000, Loss: nan, Accuracy: 96.33%\n",
      "Iteration: 75000, Loss: nan, Accuracy: 96.33%\n",
      "Iteration: 80000, Loss: nan, Accuracy: 96.67%\n",
      "Iteration: 85000, Loss: nan, Accuracy: 97.00%\n",
      "Iteration: 90000, Loss: nan, Accuracy: 97.00%\n",
      "Iteration: 95000, Loss: nan, Accuracy: 97.00%\n"
     ]
    }
   ],
   "source": [
    "\n",
    "w1, w2 = train(X_train, Y_train,\n",
    "                  X_test, Y_test,\n",
    "                  n_hidden_nodes=10, iterations=100000, lr=0.3)\n"
   ]
  },
  {
   "cell_type": "markdown",
   "metadata": {},
   "source": [
    "# Plot Decision Boundary"
   ]
  },
  {
   "cell_type": "code",
   "execution_count": 37,
   "metadata": {},
   "outputs": [
    {
     "name": "stdout",
     "output_type": "stream",
     "text": [
      "Calculating boundary...\n"
     ]
    },
    {
     "data": {
      "image/png": "[encoded data removed]",
      "text/plain": [
       "<Figure size 640x480 with 1 Axes>"
      ]
     },
     "metadata": {},
     "output_type": "display_data"
    }
   ],
   "source": [
    "%matplotlib inline\n",
    "\n",
    "import matplotlib.pyplot as plt\n",
    "from matplotlib.colors import ListedColormap\n",
    "\n",
    "# Generate a mesh over one-dimensional data\n",
    "# (The mesh() and plot_boundary() functionality were inspired by the\n",
    "# documentation of the BSD-licensed scikit-learn library.)\n",
    "def mesh(values):\n",
    "    range = values.max() - values.min()\n",
    "    padding_percent = 5\n",
    "    padding = range * padding_percent * 0.01\n",
    "    resolution = 1000\n",
    "    interval = (range + 2 * range * padding) / resolution\n",
    "    return np.arange(values.min() - padding, values.max() + padding, interval)\n",
    "\n",
    "\n",
    "def plot_boundary(points, w1, w2):\n",
    "    print(\"Calculating boundary...\")\n",
    "    # Generate a grid of points over the data\n",
    "    x_mesh = mesh(points[:, 0])\n",
    "    y_mesh = mesh(points[:, 1])\n",
    "    grid_x, grid_y = np.meshgrid(x_mesh, y_mesh)\n",
    "    grid = np.c_[grid_x.ravel(), grid_y.ravel()]\n",
    "    # Classify points in the grid\n",
    "    classifications = classify(grid, w1, w2).reshape(grid_x.shape)\n",
    "    # Trace the decision boundary\n",
    "    BLUE_AND_GREEN = ListedColormap(['#BBBBFF', '#BBFFBB'])\n",
    "    plt.contourf(grid_x, grid_y, classifications, cmap=BLUE_AND_GREEN)\n",
    "\n",
    "\n",
    "def plot_data_by_label(input_variables, labels, label_selector, symbol):\n",
    "    points = input_variables[(labels == label_selector).flatten()]\n",
    "    plt.plot(points[:, 0], points[:, 1], symbol, markersize=4)\n",
    "\n",
    "\n",
    "plot_boundary(X_train, w1, w2)\n",
    "plot_data_by_label(X_train, Y_train_unencoded, 0, 'bs')\n",
    "plot_data_by_label(X_train, Y_train_unencoded, 1, 'g^')\n",
    "plt.gca().axes.set_xlabel(\"Input A\", fontsize=20)\n",
    "plt.gca().axes.set_ylabel(\"Input B\", fontsize=20)\n",
    "plt.gca().axes.xaxis.set_ticklabels([])\n",
    "plt.gca().axes.yaxis.set_ticklabels([])\n",
    "plt.show()"
   ]
  },
  {
   "cell_type": "markdown",
   "metadata": {},
   "source": [
    "# Plot Model"
   ]
  },
  {
   "cell_type": "code",
   "execution_count": 38,
   "metadata": {},
   "outputs": [
    {
     "ename": "TypeError",
     "evalue": "FigureBase.gca() got an unexpected keyword argument 'projection'",
     "output_type": "error",
     "traceback": [
      "\u001b[1;31m---------------------------------------------------------------------------\u001b[0m",
      "\u001b[1;31mTypeError\u001b[0m                                 Traceback (most recent call last)",
      "Cell \u001b[1;32mIn [38], line 8\u001b[0m\n\u001b[0;32m      6\u001b[0m \u001b[39m# Plot the axes\u001b[39;00m\n\u001b[0;32m      7\u001b[0m sns\u001b[39m.\u001b[39mset(rc\u001b[39m=\u001b[39m{\u001b[39m\"\u001b[39m\u001b[39maxes.facecolor\u001b[39m\u001b[39m\"\u001b[39m: \u001b[39m\"\u001b[39m\u001b[39mwhite\u001b[39m\u001b[39m\"\u001b[39m, \u001b[39m\"\u001b[39m\u001b[39mfigure.facecolor\u001b[39m\u001b[39m\"\u001b[39m: \u001b[39m\"\u001b[39m\u001b[39mwhite\u001b[39m\u001b[39m\"\u001b[39m})\n\u001b[1;32m----> 8\u001b[0m ax \u001b[39m=\u001b[39m plt\u001b[39m.\u001b[39;49mfigure()\u001b[39m.\u001b[39;49mgca(projection\u001b[39m=\u001b[39;49m\u001b[39m\"\u001b[39;49m\u001b[39m3d\u001b[39;49m\u001b[39m\"\u001b[39;49m)\n\u001b[0;32m      9\u001b[0m ax\u001b[39m.\u001b[39mset_zticks([\u001b[39m0\u001b[39m, \u001b[39m0.5\u001b[39m, \u001b[39m1\u001b[39m])\n\u001b[0;32m     10\u001b[0m ax\u001b[39m.\u001b[39mset_xlabel(\u001b[39m\"\u001b[39m\u001b[39mInput A\u001b[39m\u001b[39m\"\u001b[39m, labelpad\u001b[39m=\u001b[39m\u001b[39m15\u001b[39m, fontsize\u001b[39m=\u001b[39m\u001b[39m30\u001b[39m)\n",
      "\u001b[1;31mTypeError\u001b[0m: FigureBase.gca() got an unexpected keyword argument 'projection'"
     ]
    },
    {
     "data": {
      "text/plain": [
       "<Figure size 640x480 with 0 Axes>"
      ]
     },
     "metadata": {},
     "output_type": "display_data"
    }
   ],
   "source": [
    "from matplotlib import cm\n",
    "from mpl_toolkits.mplot3d import Axes3D\n",
    "import seaborn as sns\n",
    "sns.set()\n",
    "\n",
    "# Plot the axes\n",
    "sns.set(rc={\"axes.facecolor\": \"white\", \"figure.facecolor\": \"white\"})\n",
    "ax = plt.figure().gca(projection=\"3d\")\n",
    "ax.set_zticks([0, 0.5, 1])\n",
    "ax.set_xlabel(\"Input A\", labelpad=15, fontsize=30)\n",
    "ax.set_ylabel(\"Input B\", labelpad=15, fontsize=30)\n",
    "ax.set_zlabel(\"ŷ\", labelpad=5, fontsize=30)\n",
    "\n",
    "# Plot the data points\n",
    "blue_squares = X_train[(Y_train_unencoded == 0).flatten()]\n",
    "ax.scatter(blue_squares[:, 0], blue_squares[:, 1], 0, c='b', marker='s')\n",
    "green_triangles = X_train[(Y_train_unencoded == 1).flatten()]\n",
    "ax.scatter(green_triangles[:, 0], green_triangles[:, 1], 1, c='g', marker='^')\n",
    "\n",
    "# Plot the model\n",
    "MARGIN = 0.5\n",
    "MESH_SIZE = 1000  # This model has a lot of detail, so we need a hi-res mesh\n",
    "x, y = np.meshgrid(np.linspace(x1.min() - MARGIN, x1.max() + MARGIN, MESH_SIZE),\n",
    "                   np.linspace(x2.min() - MARGIN, x2.max() + MARGIN, MESH_SIZE))\n",
    "grid = zip(np.ravel(x), np.ravel(y))\n",
    "# Calculate all the outputs of forward(), in the format (y_hat, h):\n",
    "forwards = [forward(np.column_stack(([i], [j])), w1, w2) for i, j in grid]\n",
    "# For each (y_hat, y), keep only the second column of y_hat:\n",
    "z = np.array([y_hat for y_hat, h in forwards])[:, 0, 1]\n",
    "z = z.reshape((MESH_SIZE, MESH_SIZE))\n",
    "ax.plot_surface(x, y, z, alpha=0.75, cmap=cm.winter,\n",
    "                linewidth=0, antialiased=True)\n",
    "plt.show()\n"
   ]
  },
  {
   "cell_type": "code",
   "execution_count": null,
   "metadata": {},
   "outputs": [],
   "source": []
  },
  {
   "cell_type": "code",
   "execution_count": null,
   "metadata": {},
   "outputs": [
    {
     "name": "stdout",
     "output_type": "stream",
     "text": [
      "c= [1 2]\n",
      "d= [[1 2]\n",
      " [3 4]\n",
      " [5 6]]\n",
      "d*c= [[ 1  4]\n",
      " [ 3  8]\n",
      " [ 5 12]]\n"
     ]
    }
   ],
   "source": [
    "c=np.array([1, 2])\n",
    "print('c=',c)\n",
    "d=np.array([[1,2], [3,4], [5,6]])\n",
    "print('d=',d)\n",
    "print('d*c=',d*c)"
   ]
  },
  {
   "cell_type": "code",
   "execution_count": null,
   "metadata": {},
   "outputs": [],
   "source": []
  }
 ],
 "metadata": {
  "kernelspec": {
   "display_name": "Python 3",
   "language": "python",
   "name": "python3"
  },
  "language_info": {
   "codemirror_mode": {
    "name": "ipython",
    "version": 3
   },
   "file_extension": ".py",
   "mimetype": "text/x-python",
   "name": "python",
   "nbconvert_exporter": "python",
   "pygments_lexer": "ipython3",
   "version": "3.10.9"
  },
  "vscode": {
   "interpreter": {
    "hash": "5e3cc65feb8c1a7f24ab3852f011e129c099772a24ef31268d6a22d6e5b7a516"
   }
  }
 },
 "nbformat": 4,
 "nbformat_minor": 2
}
