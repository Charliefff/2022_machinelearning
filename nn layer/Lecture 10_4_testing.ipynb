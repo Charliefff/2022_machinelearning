{
 "cells": [
  {
   "cell_type": "markdown",
   "metadata": {},
   "source": [
    "# Chapter 14: The Zen of Testing\n",
    "\n",
    "Paolo Perrotta, Programming Machine Learning: From Coding to Deep Learning (2020)"
   ]
  },
  {
   "cell_type": "markdown",
   "metadata": {},
   "source": [
    "## The Threat of Overfitting"
   ]
  },
  {
   "cell_type": "code",
   "execution_count": 8,
   "metadata": {},
   "outputs": [],
   "source": [
    "# The MNIST data loader that we used so far.\n",
    "# It includes a training and a test set, but no validation set.\n",
    "\n",
    "import numpy as np\n",
    "import gzip\n",
    "import struct\n",
    "\n",
    "\n",
    "def load_images(filename):\n",
    "    # Open and unzip the file of images:\n",
    "    with gzip.open(filename, 'rb') as f:\n",
    "        # Read the header information into a bunch of variables:\n",
    "        _ignored, n_images, columns, rows = struct.unpack('>IIII', f.read(16))\n",
    "        # Read all the pixels into a NumPy array:\n",
    "        all_pixels = np.frombuffer(f.read(), dtype=np.uint8)\n",
    "        # Reshape the pixels into a matrix where each line is an image:\n",
    "        return all_pixels.reshape(n_images, columns * rows)\n",
    "\n",
    "\n",
    "# 60000 images, each 785 elements (1 bias + 28 * 28 pixels)\n",
    "X_train = load_images(\"../data/mnist/train-images-idx3-ubyte.gz\") #注意檔案路徑是否正確\n",
    "\n",
    "# 10000 images, each 785 elements, with the same structure as X_train\n",
    "X_test = load_images(\"../data/mnist/t10k-images-idx3-ubyte.gz\") #注意檔案路徑是否正確\n",
    "\n",
    "\n",
    "def load_labels(filename):\n",
    "    # Open and unzip the file of images:\n",
    "    with gzip.open(filename, 'rb') as f:\n",
    "        # Skip the header bytes:\n",
    "        f.read(8)\n",
    "        # Read all the labels into a list:\n",
    "        all_labels = f.read()\n",
    "        # Reshape the list of labels into a one-column matrix:\n",
    "        return np.frombuffer(all_labels, dtype=np.uint8).reshape(-1, 1)\n",
    "\n",
    "\n",
    "def one_hot_encode(Y):\n",
    "    n_labels = Y.shape[0]\n",
    "    n_classes = 10\n",
    "    encoded_Y = np.zeros((n_labels, n_classes))\n",
    "    for i in range(n_labels):\n",
    "        label = Y[i]\n",
    "        encoded_Y[i][label] = 1\n",
    "    return encoded_Y\n",
    "\n",
    "\n",
    "# 60K labels, each a single digit from 0 to 9\n",
    "Y_train_unencoded = load_labels(\"../data/mnist/train-labels-idx1-ubyte.gz\") #注意檔案路徑是否正確\n",
    "\n",
    "# 60K labels, each consisting of 10 one-hot encoded elements\n",
    "Y_train = one_hot_encode(Y_train_unencoded)\n",
    "\n",
    "# 10000 labels, each a single digit from 0 to 9\n",
    "Y_test = load_labels(\"../data/mnist/t10k-labels-idx1-ubyte.gz\") #注意檔案路徑是否正確"
   ]
  },
  {
   "cell_type": "code",
   "execution_count": 9,
   "metadata": {},
   "outputs": [
    {
     "name": "stdout",
     "output_type": "stream",
     "text": [
      "(60000, 784)\n"
     ]
    }
   ],
   "source": [
    "print(X_train.shape)"
   ]
  },
  {
   "cell_type": "code",
   "execution_count": 10,
   "metadata": {},
   "outputs": [],
   "source": [
    "# The neural network, with the train() function hacked to provide\n",
    "# histories of the loss and the accuracy on both the training set\n",
    "# and the test set.\n",
    "\n",
    "\n",
    "def sigmoid(z):\n",
    "    return 1 / (1 + np.exp(-z))\n",
    "\n",
    "\n",
    "def softmax(logits):\n",
    "    exponentials = np.exp(logits)\n",
    "    return exponentials / np.sum(exponentials, axis=1).reshape(-1, 1)\n",
    "\n",
    "\n",
    "def sigmoid_gradient(sigmoid):\n",
    "    return np.multiply(sigmoid, (1 - sigmoid))\n",
    "\n",
    "\n",
    "def prepend_bias(X):\n",
    "    return np.insert(X, 0, 1, axis=1)\n",
    "\n",
    "\n",
    "def initialize_weights(n_input_variables, n_hidden_nodes, n_classes):\n",
    "    np.random.seed(1234)\n",
    "\n",
    "    w1_rows = n_input_variables + 1\n",
    "    w1 = np.random.randn(w1_rows, n_hidden_nodes) * np.sqrt(1 / w1_rows)\n",
    "\n",
    "    w2_rows = n_hidden_nodes + 1\n",
    "    w2 = np.random.randn(w2_rows, n_classes) * np.sqrt(1 / w2_rows)\n",
    "    return (w1, w2)\n",
    "\n",
    "\n",
    "def forward(X, w1, w2):\n",
    "    h = sigmoid(np.matmul(prepend_bias(X), w1))\n",
    "    y_hat = softmax(np.matmul(prepend_bias(h), w2))\n",
    "    return (y_hat, h)"
   ]
  },
  {
   "cell_type": "code",
   "execution_count": 14,
   "metadata": {},
   "outputs": [
    {
     "name": "stdout",
     "output_type": "stream",
     "text": [
      "(60000, 200)\n",
      "(60000, 10)\n"
     ]
    }
   ],
   "source": [
    "# This is a test\n",
    "n_input_variables = X_train.shape[1]\n",
    "n_classes = Y_train.shape[1]\n",
    "n_hidden_nodes = 200\n",
    "w1, w2 = initialize_weights(n_input_variables, n_hidden_nodes, n_classes)\n",
    "y_hat, h = forward(X_train, w1, w2)\n",
    "print(h.shape)\n",
    "print(y_hat.shape)"
   ]
  },
  {
   "cell_type": "code",
   "execution_count": 2,
   "metadata": {},
   "outputs": [],
   "source": [
    "def back(X, Y, y_hat, w2, h):\n",
    "    w2_gradient = np.matmul(prepend_bias(h).T, (y_hat - Y)) / X.shape[0]\n",
    "    w1_gradient = np.matmul(prepend_bias(X).T,\n",
    "                            np.matmul(y_hat - Y, w2[1:].T) *\n",
    "                            sigmoid_gradient(h)) / X.shape[0]\n",
    "    return (w1_gradient, w2_gradient)\n",
    "\n",
    "\n",
    "def classify(X, w1, w2):\n",
    "    y_hat, _ = forward(X, w1, w2)\n",
    "    labels = np.argmax(y_hat, axis=1)\n",
    "    return labels.reshape(-1, 1)\n",
    "\n",
    "\n",
    "def accuracy(X, Y_unencoded, w1, w2):\n",
    "    return np.average(classify(X, w1, w2) == Y_unencoded) * 100.0\n",
    "\n",
    "\n",
    "# This loss() takes different parameters than the ones in other source files\n",
    "def loss(X, Y, w1, w2):\n",
    "    y_hat, _ = forward(X, w1, w2)\n",
    "    return -np.sum(Y * np.log(y_hat)) / Y.shape[0]\n",
    "\n",
    "\n",
    "# This train() stores the loss on both the training and the test sets at each\n",
    "# step. A the end, it returns those histories to the caller.\n",
    "# Different from train() functions in other source files, it expects that\n",
    "# _both_ Y_train and Y_test are one hot encoded.\n",
    "def train(X_train, Y_train, X_test, Y_test, n_hidden_nodes, iterations, lr):\n",
    "    n_input_variables = X_train.shape[1]\n",
    "    n_classes = Y_train.shape[1]\n",
    "    w1, w2 = initialize_weights(n_input_variables, n_hidden_nodes, n_classes)\n",
    "    training_losses = []\n",
    "    test_losses = []\n",
    "    for i in range(iterations):\n",
    "        y_hat_train, h = forward(X_train, w1, w2)\n",
    "        y_hat_test, _ = forward(X_test, w1, w2)\n",
    "        w1_gradient, w2_gradient = back(X_train, Y_train, y_hat_train, w2, h)\n",
    "        w1 = w1 - (w1_gradient * lr)\n",
    "        w2 = w2 - (w2_gradient * lr)\n",
    "\n",
    "        training_loss = -np.sum(Y_train * np.log(y_hat_train)) / Y_train.shape[0]\n",
    "        training_losses.append(training_loss)\n",
    "        test_loss = -np.sum(Y_test * np.log(y_hat_test)) / Y_test.shape[0]\n",
    "        test_losses.append(test_loss)\n",
    "        if i % 100 == 0:\n",
    "            print(\"%5d > Training loss: %.5f - Test loss: %.5f\" % (i, training_loss, test_loss))\n",
    "    return (training_losses, test_losses, w1, w2)"
   ]
  },
  {
   "cell_type": "code",
   "execution_count": 13,
   "metadata": {},
   "outputs": [
    {
     "name": "stdout",
     "output_type": "stream",
     "text": [
      "    0 > Training loss: 2.43321 - Test loss: 2.43688\n",
      "  100 > Training loss: 1.08685 - Test loss: 0.99095\n",
      "  200 > Training loss: 0.77736 - Test loss: 0.67659\n",
      "  300 > Training loss: 0.63379 - Test loss: 0.53585\n",
      "  400 > Training loss: 0.54832 - Test loss: 0.45439\n",
      "  500 > Training loss: 0.49171 - Test loss: 0.40213\n",
      "  600 > Training loss: 0.45088 - Test loss: 0.36609\n",
      "  700 > Training loss: 0.41969 - Test loss: 0.33891\n",
      "  800 > Training loss: 0.39522 - Test loss: 0.31867\n",
      "  900 > Training loss: 0.37532 - Test loss: 0.30280\n",
      " 1000 > Training loss: 0.35864 - Test loss: 0.28972\n",
      " 1100 > Training loss: 0.34444 - Test loss: 0.27896\n",
      " 1200 > Training loss: 0.33218 - Test loss: 0.26957\n",
      " 1300 > Training loss: 0.32135 - Test loss: 0.26128\n",
      " 1400 > Training loss: 0.31171 - Test loss: 0.25412\n",
      " 1500 > Training loss: 0.30310 - Test loss: 0.24787\n",
      " 1600 > Training loss: 0.29531 - Test loss: 0.24227\n",
      " 1700 > Training loss: 0.28824 - Test loss: 0.23723\n",
      " 1800 > Training loss: 0.28177 - Test loss: 0.23274\n",
      " 1900 > Training loss: 0.27584 - Test loss: 0.22882\n",
      " 2000 > Training loss: 0.27042 - Test loss: 0.22540\n",
      " 2100 > Training loss: 0.26534 - Test loss: 0.22231\n",
      " 2200 > Training loss: 0.26060 - Test loss: 0.21945\n",
      " 2300 > Training loss: 0.25615 - Test loss: 0.21675\n",
      " 2400 > Training loss: 0.25196 - Test loss: 0.21415\n",
      " 2500 > Training loss: 0.24804 - Test loss: 0.21168\n",
      " 2600 > Training loss: 0.24435 - Test loss: 0.20936\n",
      " 2700 > Training loss: 0.24086 - Test loss: 0.20718\n",
      " 2800 > Training loss: 0.23756 - Test loss: 0.20515\n",
      " 2900 > Training loss: 0.23443 - Test loss: 0.20325\n",
      " 3000 > Training loss: 0.23146 - Test loss: 0.20148\n",
      " 3100 > Training loss: 0.22863 - Test loss: 0.19988\n",
      " 3200 > Training loss: 0.22592 - Test loss: 0.19839\n",
      " 3300 > Training loss: 0.22333 - Test loss: 0.19700\n",
      " 3400 > Training loss: 0.22085 - Test loss: 0.19570\n",
      " 3500 > Training loss: 0.21848 - Test loss: 0.19444\n",
      " 3600 > Training loss: 0.21620 - Test loss: 0.19322\n",
      " 3700 > Training loss: 0.21404 - Test loss: 0.19207\n",
      " 3800 > Training loss: 0.21195 - Test loss: 0.19093\n",
      " 3900 > Training loss: 0.20992 - Test loss: 0.18984\n",
      " 4000 > Training loss: 0.20796 - Test loss: 0.18882\n",
      " 4100 > Training loss: 0.20609 - Test loss: 0.18786\n",
      " 4200 > Training loss: 0.20427 - Test loss: 0.18695\n",
      " 4300 > Training loss: 0.20252 - Test loss: 0.18606\n",
      " 4400 > Training loss: 0.20082 - Test loss: 0.18521\n",
      " 4500 > Training loss: 0.19918 - Test loss: 0.18443\n",
      " 4600 > Training loss: 0.19759 - Test loss: 0.18368\n",
      " 4700 > Training loss: 0.19602 - Test loss: 0.18295\n",
      " 4800 > Training loss: 0.19450 - Test loss: 0.18221\n",
      " 4900 > Training loss: 0.19301 - Test loss: 0.18146\n",
      " 5000 > Training loss: 0.19155 - Test loss: 0.18072\n",
      " 5100 > Training loss: 0.19013 - Test loss: 0.18002\n",
      " 5200 > Training loss: 0.18875 - Test loss: 0.17933\n",
      " 5300 > Training loss: 0.18741 - Test loss: 0.17868\n",
      " 5400 > Training loss: 0.18609 - Test loss: 0.17803\n",
      " 5500 > Training loss: 0.18480 - Test loss: 0.17740\n",
      " 5600 > Training loss: 0.18355 - Test loss: 0.17679\n",
      " 5700 > Training loss: 0.18232 - Test loss: 0.17621\n",
      " 5800 > Training loss: 0.18112 - Test loss: 0.17565\n",
      " 5900 > Training loss: 0.17993 - Test loss: 0.17510\n",
      " 6000 > Training loss: 0.17877 - Test loss: 0.17452\n",
      " 6100 > Training loss: 0.17763 - Test loss: 0.17397\n",
      " 6200 > Training loss: 0.17654 - Test loss: 0.17341\n",
      " 6300 > Training loss: 0.17547 - Test loss: 0.17285\n",
      " 6400 > Training loss: 0.17443 - Test loss: 0.17227\n",
      " 6500 > Training loss: 0.17339 - Test loss: 0.17169\n",
      " 6600 > Training loss: 0.17237 - Test loss: 0.17111\n",
      " 6700 > Training loss: 0.17137 - Test loss: 0.17056\n",
      " 6800 > Training loss: 0.17039 - Test loss: 0.17002\n",
      " 6900 > Training loss: 0.16944 - Test loss: 0.16951\n",
      " 7000 > Training loss: 0.16851 - Test loss: 0.16902\n",
      " 7100 > Training loss: 0.16760 - Test loss: 0.16857\n",
      " 7200 > Training loss: 0.16671 - Test loss: 0.16813\n",
      " 7300 > Training loss: 0.16584 - Test loss: 0.16769\n",
      " 7400 > Training loss: 0.16498 - Test loss: 0.16725\n",
      " 7500 > Training loss: 0.16413 - Test loss: 0.16682\n",
      " 7600 > Training loss: 0.16330 - Test loss: 0.16639\n",
      " 7700 > Training loss: 0.16247 - Test loss: 0.16596\n",
      " 7800 > Training loss: 0.16167 - Test loss: 0.16555\n",
      " 7900 > Training loss: 0.16087 - Test loss: 0.16515\n",
      " 8000 > Training loss: 0.16008 - Test loss: 0.16479\n",
      " 8100 > Training loss: 0.15931 - Test loss: 0.16443\n",
      " 8200 > Training loss: 0.15855 - Test loss: 0.16408\n",
      " 8300 > Training loss: 0.15781 - Test loss: 0.16374\n",
      " 8400 > Training loss: 0.15709 - Test loss: 0.16340\n",
      " 8500 > Training loss: 0.15637 - Test loss: 0.16306\n",
      " 8600 > Training loss: 0.15566 - Test loss: 0.16274\n",
      " 8700 > Training loss: 0.15496 - Test loss: 0.16241\n",
      " 8800 > Training loss: 0.15427 - Test loss: 0.16206\n",
      " 8900 > Training loss: 0.15359 - Test loss: 0.16173\n",
      " 9000 > Training loss: 0.15292 - Test loss: 0.16143\n",
      " 9100 > Training loss: 0.15227 - Test loss: 0.16113\n",
      " 9200 > Training loss: 0.15162 - Test loss: 0.16085\n",
      " 9300 > Training loss: 0.15098 - Test loss: 0.16056\n",
      " 9400 > Training loss: 0.15034 - Test loss: 0.16028\n",
      " 9500 > Training loss: 0.14970 - Test loss: 0.16001\n",
      " 9600 > Training loss: 0.14908 - Test loss: 0.15973\n",
      " 9700 > Training loss: 0.14846 - Test loss: 0.15945\n",
      " 9800 > Training loss: 0.14786 - Test loss: 0.15918\n",
      " 9900 > Training loss: 0.14727 - Test loss: 0.15895\n",
      "Training accuracy: 96.13%, Test accuracy: 95.64%\n"
     ]
    }
   ],
   "source": [
    "training_losses, test_losses, w1, w2 = train(X_train,Y_train, X_test, one_hot_encode(Y_test),\n",
    "                                             n_hidden_nodes=200,\n",
    "                                             iterations=10000,\n",
    "                                             lr=0.01)\n",
    "\n",
    "training_accuracy = accuracy(X_train, Y_train_unencoded, w1, w2)\n",
    "test_accuracy = accuracy(X_test, Y_test, w1, w2)\n",
    "print(\"Training accuracy: %.2f%%, Test accuracy: %.2f%%\" %\n",
    "      (training_accuracy, test_accuracy))"
   ]
  },
  {
   "cell_type": "code",
   "execution_count": 14,
   "metadata": {},
   "outputs": [
    {
     "data": {
      "image/png": "[encoded data removed]",
      "text/plain": [
       "<Figure size 432x288 with 1 Axes>"
      ]
     },
     "metadata": {},
     "output_type": "display_data"
    }
   ],
   "source": [
    "%matplotlib inline\n",
    "\n",
    "import matplotlib.pyplot as plt\n",
    "import seaborn as sns\n",
    "sns.set()\n",
    "\n",
    "plt.plot(training_losses, label='Training set', color='blue', linestyle='-')\n",
    "plt.plot(test_losses, label='Test set', color='green', linestyle='--')\n",
    "plt.xlabel(\"Iterations\")\n",
    "plt.ylabel(\"Loss\")\n",
    "plt.legend()\n",
    "plt.show()"
   ]
  },
  {
   "cell_type": "markdown",
   "metadata": {},
   "source": [
    "## A Testing Conundrum"
   ]
  },
  {
   "cell_type": "code",
   "execution_count": 15,
   "metadata": {},
   "outputs": [],
   "source": [
    "# X_train/X_validation/X_test: 60K/5K/5K images\n",
    "# Each image has 784 elements (28 * 28 pixels)\n",
    "X_train = load_images(\"../data/mnist/train-images-idx3-ubyte.gz\") #注意檔案路徑是否正確\n",
    "X_test_all = load_images(\"../data/mnist/t10k-images-idx3-ubyte.gz\") #注意檔案路徑是否正確\n",
    "X_validation, X_test = np.split(X_test_all, 2)"
   ]
  },
  {
   "cell_type": "code",
   "execution_count": 16,
   "metadata": {},
   "outputs": [
    {
     "data": {
      "text/plain": [
       "(60000, 784)"
      ]
     },
     "execution_count": 16,
     "metadata": {},
     "output_type": "execute_result"
    }
   ],
   "source": [
    "X_train.shape"
   ]
  },
  {
   "cell_type": "code",
   "execution_count": 7,
   "metadata": {},
   "outputs": [
    {
     "data": {
      "text/plain": [
       "(5000, 784)"
      ]
     },
     "execution_count": 7,
     "metadata": {},
     "output_type": "execute_result"
    }
   ],
   "source": [
    "X_validation.shape"
   ]
  },
  {
   "cell_type": "code",
   "execution_count": 8,
   "metadata": {},
   "outputs": [
    {
     "data": {
      "text/plain": [
       "(5000, 784)"
      ]
     },
     "execution_count": 8,
     "metadata": {},
     "output_type": "execute_result"
    }
   ],
   "source": [
    "X_test.shape"
   ]
  },
  {
   "cell_type": "code",
   "execution_count": 9,
   "metadata": {},
   "outputs": [],
   "source": [
    "# 60K labels, each a single digit from 0 to 9\n",
    "Y_train_unencoded = load_labels(\"../data/mnist/train-labels-idx1-ubyte.gz\") #注意檔案路徑是否正確\n",
    "\n",
    "# Y_train: 60K labels, each consisting of 10 one-hot encoded elements\n",
    "Y_train = one_hot_encode(Y_train_unencoded)\n",
    "\n",
    "# Y_validation/Y_test: 5K/5K labels, each a single digit from 0 to 9\n",
    "Y_test_all = load_labels(\"../data/mnist/t10k-labels-idx1-ubyte.gz\") #注意檔案路徑是否正確\n",
    "Y_validation, Y_test = np.split(Y_test_all, 2)"
   ]
  },
  {
   "cell_type": "code",
   "execution_count": 10,
   "metadata": {},
   "outputs": [
    {
     "data": {
      "text/plain": [
       "(60000, 10)"
      ]
     },
     "execution_count": 10,
     "metadata": {},
     "output_type": "execute_result"
    }
   ],
   "source": [
    "Y_train.shape"
   ]
  },
  {
   "cell_type": "code",
   "execution_count": 11,
   "metadata": {},
   "outputs": [
    {
     "data": {
      "text/plain": [
       "(5000, 1)"
      ]
     },
     "execution_count": 11,
     "metadata": {},
     "output_type": "execute_result"
    }
   ],
   "source": [
    "Y_validation.shape"
   ]
  },
  {
   "cell_type": "code",
   "execution_count": 12,
   "metadata": {},
   "outputs": [
    {
     "data": {
      "text/plain": [
       "(5000, 1)"
      ]
     },
     "execution_count": 12,
     "metadata": {},
     "output_type": "execute_result"
    }
   ],
   "source": [
    "Y_test.shape"
   ]
  },
  {
   "cell_type": "code",
   "execution_count": null,
   "metadata": {},
   "outputs": [],
   "source": []
  }
 ],
 "metadata": {
  "kernelspec": {
   "display_name": "Python 3",
   "language": "python",
   "name": "python3"
  },
  "language_info": {
   "codemirror_mode": {
    "name": "ipython",
    "version": 3
   },
   "file_extension": ".py",
   "mimetype": "text/x-python",
   "name": "python",
   "nbconvert_exporter": "python",
   "pygments_lexer": "ipython3",
   "version": "3.8.3"
  }
 },
 "nbformat": 4,
 "nbformat_minor": 2
}
