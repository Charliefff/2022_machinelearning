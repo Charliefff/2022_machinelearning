{
 "cells": [
  {
   "cell_type": "markdown",
   "metadata": {},
   "source": [
    "https://www.kaggle.com/code/manmohan291/10-tree-classification"
   ]
  },
  {
   "cell_type": "code",
   "execution_count": 1,
   "metadata": {},
   "outputs": [],
   "source": [
    "import numpy as np \n",
    "import pandas as pd \n",
    "import matplotlib.pyplot as plt\n",
    "from matplotlib.colors import ListedColormap\n",
    "import sklearn.datasets"
   ]
  },
  {
   "cell_type": "code",
   "execution_count": 2,
   "metadata": {},
   "outputs": [],
   "source": [
    "class TreeNode:\n",
    "    def __init__(self,id, parent=None,vLevel=None,vSplitFeature=None,\n",
    "                 vOp=None,vSplitValue=None,vSplitSign=None,vPredictedClass=None):\n",
    "        self.id = id\n",
    "        self.children=[]\n",
    "        self.parent=parent\n",
    "        self.vLevel=vLevel\n",
    "        self.vSplitFeature=vSplitFeature\n",
    "        self.vOp=vOp\n",
    "        self.vSplitValue=vSplitValue\n",
    "        self.vSplitSign=vSplitSign\n",
    "        self.vPredictedClass=vPredictedClass\n",
    "        if(parent!=None):\n",
    "            parent.children=parent.children+[self]"
   ]
  },
  {
   "cell_type": "code",
   "execution_count": 4,
   "metadata": {},
   "outputs": [],
   "source": [
    "# Data Generate\n",
    "def load_dataset(dataset = \"noisy_moons\"):  \n",
    "    N = 300\n",
    "    noisy_circles = sklearn.datasets.make_circles(n_samples=N, factor=.5, noise=.3)\n",
    "    noisy_moons = sklearn.datasets.make_moons(n_samples=N, noise=.2)\n",
    "    blobs = sklearn.datasets.make_blobs(n_samples=N, random_state=5, n_features=2, centers=6)\n",
    "    gaussian_quantiles = sklearn.datasets.make_gaussian_quantiles(mean=None, cov=0.5, \n",
    "                        n_samples=N, n_features=2, n_classes=2, shuffle=True, random_state=None)\n",
    "    \n",
    "    \n",
    "    datasets = {\"noisy_circles\": noisy_circles,\"noisy_moons\": noisy_moons,\n",
    "                \"blobs\": blobs,\"gaussian_quantiles\": gaussian_quantiles}\n",
    "    \n",
    "    if (dataset==\"planar\"):\n",
    "        np.random.seed(1)\n",
    "        m = 400 # number of examples\n",
    "        N = int(m/2) # number of points per class\n",
    "        D = 2 # dimensionality\n",
    "        X = np.zeros((m,D)) # data matrix where each row is a single example\n",
    "        Y = np.zeros((m,1), dtype='uint8') # labels vector (0 for red, 1 for blue)\n",
    "        a = 4 # maximum ray of the flower\n",
    "\n",
    "        for j in range(2):\n",
    "            ix = range(N*j,N*(j+1))\n",
    "            t = np.linspace(j*3.12,(j+1)*3.12,N) + np.random.randn(N)*0.2 # theta\n",
    "            r = a*np.sin(4*t) + np.random.randn(N)*0.2 # radius\n",
    "            X[ix] = np.c_[r*np.sin(t), r*np.cos(t)]\n",
    "            Y[ix] = j\n",
    "\n",
    "        X = X.reshape(Y.shape[0],2 )\n",
    "        Y = Y.reshape(Y.shape[0],1)\n",
    "    else:\n",
    "        X, Y = datasets[dataset]\n",
    "        X, Y = X.reshape(Y.shape[0],2), Y.reshape(Y.shape[0],1)\n",
    "\n",
    "    # make blobs binary\n",
    "    if dataset == \"blobs\":\n",
    "        Y = Y%2\n",
    "        \n",
    "    return  X, Y"
   ]
  },
  {
   "cell_type": "code",
   "execution_count": 5,
   "metadata": {},
   "outputs": [
    {
     "name": "stdout",
     "output_type": "stream",
     "text": [
      "(300, 1) (300, 2)\n",
      "Number of classes= 2\n"
     ]
    }
   ],
   "source": [
    "np.random.seed(1) # set a seed so that the results are consistent\n",
    "#Optioins for dataset \"planar\",\"noisy_circles\",\"noisy_moons\",\"blobs\",\"gaussian_quantiles\"\n",
    "X, Y = load_dataset(\"blobs\") \n",
    "print(Y.shape,X.shape)\n",
    "K=2\n",
    "print(\"Number of classes=\",K)"
   ]
  },
  {
   "cell_type": "code",
   "execution_count": 6,
   "metadata": {},
   "outputs": [
    {
     "data": {
      "image/png": "[encoded data removed]",
      "text/plain": [
       "<Figure size 432x288 with 1 Axes>"
      ]
     },
     "metadata": {
      "needs_background": "light"
     },
     "output_type": "display_data"
    }
   ],
   "source": [
    "cmap = ListedColormap(['blue', 'red']) \n",
    "\n",
    "plt.scatter(X[:, 0].flatten(), X[:, 1].flatten(), c=Y[:, 0].flatten(), cmap=cmap);\n",
    "plt.show()"
   ]
  },
  {
   "cell_type": "code",
   "execution_count": 7,
   "metadata": {},
   "outputs": [],
   "source": [
    "# Create Tree\n",
    "def getGiniScore(X,Y,ri,ci):\n",
    "    G=0\n",
    "    S=X[ri,ci]\n",
    "    Y0=Y[np.where(X[:,ci]<=S)]\n",
    "    Y1=Y[np.where(X[:,ci]>S)]\n",
    "    ep=0.00000000001\n",
    "    \n",
    "    for i in range(K):\n",
    "        P=len(Y0[np.where(Y0==i)])/(len(Y0)+ep)\n",
    "        Q=len(Y1[np.where(Y1==i)])/(len(Y1) +ep)\n",
    "        G=G+(len(Y0)/len(Y))*P**2 +(len(Y1)/len(Y)) *Q**2\n",
    "\n",
    "    return G"
   ]
  },
  {
   "cell_type": "code",
   "execution_count": 8,
   "metadata": {},
   "outputs": [],
   "source": [
    "def getBestSplit(X,Y,ThresholdCount):\n",
    "    ri=0\n",
    "    ci=0  \n",
    "    for i in range(K):\n",
    "        if(len(Y[np.where(Y==i)])==len(Y)):\n",
    "            ri=-1\n",
    "            ci=-1 \n",
    "\n",
    "    if(X.shape[0]<=ThresholdCount):\n",
    "        ri=-1\n",
    "        ci=-1   \n",
    "\n",
    "    if(ri!=-1 and ci!=-1):\n",
    "        G=np.zeros((X.shape))\n",
    "        for ri in range(G.shape[0]):\n",
    "            for ci in range(G.shape[1]):   \n",
    "                G[ri,ci]=getGiniScore(X,Y,ri,ci)\n",
    "\n",
    "        ri=np.unravel_index(np.argmax(G, axis=None), G.shape)[0]\n",
    "        ci=np.unravel_index(np.argmax(G, axis=None), G.shape)[1]\n",
    "    \n",
    "    return ri,ci"
   ]
  },
  {
   "cell_type": "code",
   "execution_count": 11,
   "metadata": {},
   "outputs": [],
   "source": [
    "def createTree(X, y,Level=1,Node=TreeNode(id=\"root\",vPredictedClass=-1),ThresholdCount=1):\n",
    "     \n",
    "    ri,ci=getBestSplit(X,y,ThresholdCount)\n",
    "  \n",
    "    if( ri!=-1 and     ci!=-1):\n",
    "        SplitFeature=ci\n",
    "        SplitValue=X[ri,ci]\n",
    "\n",
    "        #PlotTreeSplit(X,SplitFeature,SplitValue,Level)  #Plot While Training\n",
    "        \n",
    "        X0=X[np.where(X[:,SplitFeature]<=SplitValue)]\n",
    "        Y0=y[np.where(X[:,SplitFeature]<=SplitValue)]     \n",
    "       \n",
    "        X1=X[np.where(X[:,SplitFeature]>SplitValue)]\n",
    "        Y1=y[np.where(X[:,SplitFeature]>SplitValue)]\n",
    "       \n",
    "\n",
    "        s0 = TreeNode(id=\"Level_\"+str(Level)+\"_Left(\"+\"X\"+str(SplitFeature)+\"<\"+str(round(SplitValue,1))+\")\", \n",
    "                      parent=Node,vLevel=Level,vSplitFeature=SplitFeature,vOp=\"<\",vSplitValue=SplitValue,\n",
    "                      vSplitSign=-1,vPredictedClass=-1)\n",
    "        s1 = TreeNode(id=\"Level_\"+str(Level)+\"_Right(\"+\"X\"+str(SplitFeature)+\">\"+str(round(SplitValue,1))+\")\", \n",
    "                      parent=Node,vLevel=Level,vSplitFeature=SplitFeature,vOp=\">\",vSplitValue=SplitValue,\n",
    "                      vSplitSign=1,vPredictedClass=-1)\n",
    "        s0=createTree(X0,Y0,Level+1,s0,ThresholdCount=ThresholdCount)        \n",
    "        s1=createTree(X1,Y1,Level+1,s1,ThresholdCount=ThresholdCount)\n",
    "\n",
    "    else:\n",
    "        if len(y[np.where(y==0)])<= len(y[np.where(y==1)]):\n",
    "            Node.vPredictedClass=1\n",
    "        else:\n",
    "            Node.vPredictedClass=0\n",
    "      \n",
    "\n",
    "    return Node"
   ]
  },
  {
   "cell_type": "code",
   "execution_count": 12,
   "metadata": {},
   "outputs": [
    {
     "name": "stdout",
     "output_type": "stream",
     "text": [
      "(2, 300)\n"
     ]
    }
   ],
   "source": [
    "Threshold=30\n",
    "print(X.T.shape)\n",
    "#Training\n",
    "TrainedTree = createTree(X, Y,ThresholdCount=Threshold)"
   ]
  },
  {
   "cell_type": "code",
   "execution_count": 13,
   "metadata": {},
   "outputs": [],
   "source": [
    "# Prediction/Accuracy Evaluation\n",
    "def predictTree(X,y,Node):\n",
    "    if(len(Node.children)!=0):\n",
    "        SplitFeature=Node.children[0].vSplitFeature\n",
    "        SplitValue=Node.children[0].vSplitValue\n",
    "        X0=X[np.where(X[:,SplitFeature]<=SplitValue)]\n",
    "        Y0=y[np.where(X[:,SplitFeature]<=SplitValue)]             \n",
    "        X1=X[np.where(X[:,SplitFeature]>SplitValue)]\n",
    "        Y1=y[np.where(X[:,SplitFeature]>SplitValue)]\n",
    "        newX1,newY1=predictTree(X0,Y0,Node.children[0])\n",
    "        newX2,newY2=predictTree(X1,Y1,Node.children[1])\n",
    "        newX= np.concatenate((newX1,newX2),axis=0)\n",
    "        newY=np.concatenate((newY1,newY2),axis=0)\n",
    "    else:\n",
    "        newX=X\n",
    "        for i in range(len(y)):\n",
    "            y[i]=Node.vPredictedClass\n",
    "        newY=y\n",
    "    return newX,newY"
   ]
  },
  {
   "cell_type": "code",
   "execution_count": 14,
   "metadata": {},
   "outputs": [],
   "source": [
    "# Accurracy on Training Data\n",
    "def accurracy(Xy,NewXy):\n",
    "    Xy=np.sort(Xy,axis=0)\n",
    "    NewXy=np.sort(NewXy,axis=0)\n",
    "    Y1=Xy[:,-1]\n",
    "    Y2=NewXy[:,-1]\n",
    "    m=np.mean(np.where(Y1==Y2,1,0))    \n",
    "    return m*100"
   ]
  },
  {
   "cell_type": "code",
   "execution_count": 15,
   "metadata": {},
   "outputs": [
    {
     "name": "stdout",
     "output_type": "stream",
     "text": [
      "Traning  accuracy( 97.66666666666667 %).\n"
     ]
    }
   ],
   "source": [
    "# Predict using Tree Created\n",
    "newX,newY=predictTree(X,Y,TrainedTree)\n",
    "Xy=np.column_stack((X,Y))          #Merge dataset to sort order again \n",
    "newXy=np.column_stack((newX,newY)) #Compare requires sorting as Tree shuffled the data in leaf nodes\n",
    "Accuracy=accurracy(Xy,newXy)\n",
    "print(\"Traning  accuracy(\",Accuracy,\"%).\")"
   ]
  },
  {
   "cell_type": "code",
   "execution_count": 16,
   "metadata": {},
   "outputs": [],
   "source": [
    "# Plotting Hypothesis\n",
    "def PlotTreeSplit(X,SplitFeature,SplitValue,Level): \n",
    "    x_min, x_max = X[:, 0].min() , X[:, 0].max() \n",
    "    y_min, y_max = X[:, 1].min() , X[:, 1].max()\n",
    "    u = np.linspace(x_min, x_max, 2) \n",
    "    v = np.linspace(y_min, y_max, 2)      \n",
    "    for i in range(len(v)): \n",
    "        if (SplitFeature==0):        \n",
    "            u[i] = SplitValue\n",
    "        else:\n",
    "            v[i] = SplitValue\n",
    "    plt.plot(u, v)\n",
    "    plt.text(u[0],v[0],Level,rotation=90*SplitFeature )\n",
    "    return\n",
    "\n",
    "\n",
    "####################################################################\n",
    "def PlotTree(X,y,Node):\n",
    "    if(len(Node.children)!=0):\n",
    "        SplitFeature=Node.children[0].vSplitFeature\n",
    "        SplitValue=Node.children[0].vSplitValue\n",
    "        Level=Node.children[0].vLevel\n",
    "        X0=X[np.where(X[:,SplitFeature]<=SplitValue)]\n",
    "        Y0=y[np.where(X[:,SplitFeature]<=SplitValue)]     \n",
    "        X1=X[np.where(X[:,SplitFeature]>SplitValue)]\n",
    "        Y1=y[np.where(X[:,SplitFeature]>SplitValue)]\n",
    "        PlotTreeSplit(X,SplitFeature,SplitValue,Level)\n",
    "        PlotTree(X0,Y0,Node.children[0])\n",
    "        PlotTree(X1,Y1,Node.children[1])\n",
    "    else:\n",
    "        plt.scatter(X[np.where(y==1),0],X[np.where(y==1),1],marker=\"+\")\n",
    "        plt.scatter(X[np.where(y!=1),0],X[np.where(y!=1),1],marker=\"o\")\n",
    "    return\n",
    "\n",
    "####################################################################\n",
    "def PlotPoints(X,y):\n",
    "    plt.scatter(X[np.where(y==1),0],X[np.where(y==1),1],marker=\"+\")\n",
    "    plt.scatter(X[np.where(y!=1),0],X[np.where(y!=1),1],marker=\"o\")\n",
    "    return"
   ]
  },
  {
   "cell_type": "code",
   "execution_count": 17,
   "metadata": {},
   "outputs": [
    {
     "data": {
      "image/png": "[encoded data removed]",
      "text/plain": [
       "<Figure size 432x288 with 1 Axes>"
      ]
     },
     "metadata": {
      "needs_background": "light"
     },
     "output_type": "display_data"
    }
   ],
   "source": [
    "#%matplotlib notebook\n",
    "plt.subplot(111)  \n",
    "plt.title(\"Training (Threshold=\"+str(Threshold)+\")\")   \n",
    "PlotTree(X,Y,TrainedTree)"
   ]
  },
  {
   "cell_type": "code",
   "execution_count": 18,
   "metadata": {},
   "outputs": [
    {
     "data": {
      "image/png": "[encoded data removed]",
      "text/plain": [
       "<Figure size 432x288 with 1 Axes>"
      ]
     },
     "metadata": {
      "needs_background": "light"
     },
     "output_type": "display_data"
    }
   ],
   "source": [
    "plt.subplot(111) \n",
    "plt.title(\"Prediction \"+str(Accuracy)+\"%\")     \n",
    "PlotTree(newX,newY,TrainedTree)\n",
    "plt.show()"
   ]
  },
  {
   "cell_type": "code",
   "execution_count": 19,
   "metadata": {},
   "outputs": [],
   "source": [
    "# Pruning a tree\n",
    "def pruneTree(X,y,Node,ThresholdCount):\n",
    "    if(len(Node.children)!=0):\n",
    "        SplitFeature=Node.children[0].vSplitFeature\n",
    "        SplitValue=Node.children[0].vSplitValue\n",
    "        X0=X[np.where(X[:,SplitFeature]<=SplitValue)]\n",
    "        Y0=y[np.where(X[:,SplitFeature]<=SplitValue)]             \n",
    "        X1=X[np.where(X[:,SplitFeature]>SplitValue)]\n",
    "        Y1=y[np.where(X[:,SplitFeature]>SplitValue)]\n",
    "        if (X0.shape[0]<ThresholdCount or X1.shape[0]<ThresholdCount):\n",
    "            Node.children=[]\n",
    "            PredictedClass=0\n",
    "            PredictedClassLen=0\n",
    "            for i in range(int(y.max()+1)):\n",
    "                if (len(y[np.where(y==i)])>PredictedClassLen):\n",
    "                    PredictedClass=i\n",
    "                    PredictedClassLen=len(y[np.where(y==i)])\n",
    "            Node.vPredictedClass=PredictedClass\n",
    "        else:            \n",
    "            pruneTree(X0,Y0,Node.children[0],ThresholdCount)\n",
    "            pruneTree(X1,Y1,Node.children[1],ThresholdCount)\n",
    "                \n",
    "    return Node"
   ]
  },
  {
   "cell_type": "code",
   "execution_count": 20,
   "metadata": {},
   "outputs": [
    {
     "data": {
      "image/png": "[encoded data removed]",
      "text/plain": [
       "<Figure size 432x288 with 1 Axes>"
      ]
     },
     "metadata": {
      "needs_background": "light"
     },
     "output_type": "display_data"
    }
   ],
   "source": [
    "PrunedTree = pruneTree(X, Y, TrainedTree,ThresholdCount=Threshold)\n",
    "newX,newY=predictTree(X,Y,PrunedTree)\n",
    "PlotTree(newX,newY,PrunedTree)\n",
    "plt.show()"
   ]
  },
  {
   "cell_type": "code",
   "execution_count": null,
   "metadata": {},
   "outputs": [],
   "source": []
  },
  {
   "cell_type": "code",
   "execution_count": null,
   "metadata": {},
   "outputs": [],
   "source": []
  }
 ],
 "metadata": {
  "kernelspec": {
   "display_name": "Python 3",
   "language": "python",
   "name": "python3"
  },
  "language_info": {
   "codemirror_mode": {
    "name": "ipython",
    "version": 3
   },
   "file_extension": ".py",
   "mimetype": "text/x-python",
   "name": "python",
   "nbconvert_exporter": "python",
   "pygments_lexer": "ipython3",
   "version": "3.10.9 (tags/v3.10.9:1dd9be6, Dec  6 2022, 20:01:21) [MSC v.1934 64 bit (AMD64)]"
  },
  "vscode": {
   "interpreter": {
    "hash": "5e3cc65feb8c1a7f24ab3852f011e129c099772a24ef31268d6a22d6e5b7a516"
   }
  }
 },
 "nbformat": 4,
 "nbformat_minor": 4
}
