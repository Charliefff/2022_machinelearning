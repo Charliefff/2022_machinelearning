{
 "cells": [
  {
   "cell_type": "code",
   "execution_count": 292,
   "metadata": {},
   "outputs": [],
   "source": [
    "import matplotlib.pyplot as plt\n",
    "from matplotlib.colors import ListedColormap\n",
    "import numpy as np\n",
    "import pandas as pd"
   ]
  },
  {
   "cell_type": "code",
   "execution_count": 293,
   "metadata": {},
   "outputs": [],
   "source": [
    "w1x1 = []\n",
    "w1x2 = []\n",
    "w2x1 = []\n",
    "w2x2 = []\n",
    "w1 = [[0.1 ,0.83],[0.09, 0.55],[0.29, 0.35], [0.38, 0.70], [0.52, 0.48], [0.57, 0.73], [0.73, 0.75], [0.47, 0.06]]\n",
    "w2 = [[0.10, 0.29], [0.08, 0.15], [0.23, 0.16], [0.70, 0.19], [0.62, 0.47], [0.91, 0.27], [0.65, 0.90], [0.75, 0.36]]\n",
    "K = 2\n",
    "black = np.ones(8)\n",
    "red = np.zeros(8)"
   ]
  },
  {
   "cell_type": "code",
   "execution_count": 294,
   "metadata": {},
   "outputs": [],
   "source": [
    "X = np.concatenate((w1, w2))\n",
    "\n",
    "Y = np.concatenate((black, red))\n",
    "\n"
   ]
  },
  {
   "cell_type": "code",
   "execution_count": 295,
   "metadata": {},
   "outputs": [
    {
     "data": {
      "text/plain": [
       "array([[0.1 , 0.83],\n",
       "       [0.09, 0.55],\n",
       "       [0.29, 0.35],\n",
       "       [0.38, 0.7 ],\n",
       "       [0.52, 0.48],\n",
       "       [0.57, 0.73],\n",
       "       [0.73, 0.75],\n",
       "       [0.47, 0.06],\n",
       "       [0.1 , 0.29],\n",
       "       [0.08, 0.15],\n",
       "       [0.23, 0.16],\n",
       "       [0.7 , 0.19],\n",
       "       [0.62, 0.47],\n",
       "       [0.91, 0.27],\n",
       "       [0.65, 0.9 ],\n",
       "       [0.75, 0.36]])"
      ]
     },
     "execution_count": 295,
     "metadata": {},
     "output_type": "execute_result"
    }
   ],
   "source": [
    "X"
   ]
  },
  {
   "cell_type": "code",
   "execution_count": 297,
   "metadata": {},
   "outputs": [],
   "source": [
    "for i in range(7):\n",
    "    w1x1.append(w1[i][0])\n",
    "    w1x2.append(w1[i][1])\n",
    "    w2x1.append(w2[i][0])\n",
    "    w2x2.append(w2[i][1]) "
   ]
  },
  {
   "cell_type": "code",
   "execution_count": 298,
   "metadata": {},
   "outputs": [
    {
     "data": {
      "text/plain": [
       "<matplotlib.collections.PathCollection at 0x1f40d714cd0>"
      ]
     },
     "execution_count": 298,
     "metadata": {},
     "output_type": "execute_result"
    },
    {
     "data": {
      "image/png": "[encoded data removed]",
      "text/plain": [
       "<Figure size 640x480 with 1 Axes>"
      ]
     },
     "metadata": {},
     "output_type": "display_data"
    }
   ],
   "source": [
    "\n",
    "plt.scatter(w1x1, w1x2, c='k')\n",
    "plt.scatter(w2x1, w2x2, c='r')\n"
   ]
  },
  {
   "cell_type": "code",
   "execution_count": 299,
   "metadata": {},
   "outputs": [],
   "source": [
    "# Create Tree\n",
    "def getGiniScore(X,Y,ri,ci):\n",
    "    G=0\n",
    "    S=X[ri,ci]\n",
    "    Y0=Y[np.where(X[:,ci]<=S)]\n",
    "    Y1=Y[np.where(X[:,ci]>S)]\n",
    "    ep=0.00000000001\n",
    "    \n",
    "    for i in range(K):\n",
    "        P=len(Y0[np.where(Y0==i)])/(len(Y0)+ep)\n",
    "        Q=len(Y1[np.where(Y1==i)])/(len(Y1) +ep)\n",
    "        G=G+(len(Y0)/len(Y))*P**2 +(len(Y1)/len(Y)) *Q**2\n",
    "\n",
    "    return G"
   ]
  },
  {
   "cell_type": "code",
   "execution_count": 300,
   "metadata": {},
   "outputs": [],
   "source": [
    "class TreeNode:\n",
    "    def __init__(self,id, parent=None,vLevel=None,vSplitFeature=None,\n",
    "                 vOp=None,vSplitValue=None,vSplitSign=None,vPredictedClass=None):\n",
    "        self.id = id\n",
    "        self.children=[]\n",
    "        self.parent=parent\n",
    "        self.vLevel=vLevel\n",
    "        self.vSplitFeature=vSplitFeature\n",
    "        self.vOp=vOp\n",
    "        self.vSplitValue=vSplitValue\n",
    "        self.vSplitSign=vSplitSign\n",
    "        self.vPredictedClass=vPredictedClass\n",
    "        if(parent!=None):\n",
    "            parent.children=parent.children+[self]"
   ]
  },
  {
   "cell_type": "code",
   "execution_count": 301,
   "metadata": {},
   "outputs": [],
   "source": [
    "class TreeNode:\n",
    "    def __init__(self,id, parent=None,vLevel=None,vSplitFeature=None,\n",
    "                 vOp=None,vSplitValue=None,vSplitSign=None,vPredictedClass=None):\n",
    "        self.id = id\n",
    "        self.children=[]\n",
    "        self.parent=parent\n",
    "        self.vLevel=vLevel\n",
    "        self.vSplitFeature=vSplitFeature\n",
    "        self.vOp=vOp\n",
    "        self.vSplitValue=vSplitValue\n",
    "        self.vSplitSign=vSplitSign\n",
    "        self.vPredictedClass=vPredictedClass\n",
    "        if(parent!=None):\n",
    "            parent.children=parent.children+[self]"
   ]
  },
  {
   "cell_type": "code",
   "execution_count": 302,
   "metadata": {},
   "outputs": [],
   "source": [
    "def getBestSplit(X,Y,ThresholdCount):\n",
    "    ri=0\n",
    "    ci=0  \n",
    "    for i in range(K):\n",
    "        if(len(Y[np.where(Y==i)])==len(Y)):\n",
    "            ri=-1\n",
    "            ci=-1 \n",
    "\n",
    "    if(X.shape[0]<=ThresholdCount):\n",
    "        ri=-1\n",
    "        ci=-1   \n",
    "\n",
    "    if(ri!=-1 and ci!=-1):\n",
    "        G=np.zeros((X.shape))\n",
    "        for ri in range(G.shape[0]):\n",
    "            for ci in range(G.shape[1]):   \n",
    "                G[ri,ci]=getGiniScore(X,Y,ri,ci)\n",
    "\n",
    "        ri=np.unravel_index(np.argmax(G, axis=None), G.shape)[0]\n",
    "        ci=np.unravel_index(np.argmax(G, axis=None), G.shape)[1]\n",
    "    \n",
    "    return ri,ci"
   ]
  },
  {
   "cell_type": "code",
   "execution_count": 303,
   "metadata": {},
   "outputs": [],
   "source": [
    "def createTree(X, y,Level=1,Node=TreeNode(id=\"root\",vPredictedClass=-1),ThresholdCount=1):\n",
    "     \n",
    "    ri,ci=getBestSplit(X,y,ThresholdCount)\n",
    "  \n",
    "    if( ri!=-1 and     ci!=-1):\n",
    "        SplitFeature=ci\n",
    "        SplitValue=X[ri,ci]\n",
    "\n",
    "        #PlotTreeSplit(X,SplitFeature,SplitValue,Level)  #Plot While Training\n",
    "        \n",
    "        X0=X[np.where(X[:,SplitFeature]<=SplitValue)]\n",
    "        Y0=y[np.where(X[:,SplitFeature]<=SplitValue)]     \n",
    "       \n",
    "        X1=X[np.where(X[:,SplitFeature]>SplitValue)]\n",
    "        Y1=y[np.where(X[:,SplitFeature]>SplitValue)]\n",
    "       \n",
    "\n",
    "        s0 = TreeNode(id=\"Level_\"+str(Level)+\"_Left(\"+\"X\"+str(SplitFeature)+\"<\"+str(round(SplitValue,1))+\")\", \n",
    "                      parent=Node,vLevel=Level,vSplitFeature=SplitFeature,vOp=\"<\",vSplitValue=SplitValue,\n",
    "                      vSplitSign=-1,vPredictedClass=-1)\n",
    "        s1 = TreeNode(id=\"Level_\"+str(Level)+\"_Right(\"+\"X\"+str(SplitFeature)+\">\"+str(round(SplitValue,1))+\")\", \n",
    "                      parent=Node,vLevel=Level,vSplitFeature=SplitFeature,vOp=\">\",vSplitValue=SplitValue,\n",
    "                      vSplitSign=1,vPredictedClass=-1)\n",
    "        s0=createTree(X0,Y0,Level+1,s0,ThresholdCount=ThresholdCount)        \n",
    "        s1=createTree(X1,Y1,Level+1,s1,ThresholdCount=ThresholdCount)\n",
    "\n",
    "    else:\n",
    "        if len(y[np.where(y==0)])<= len(y[np.where(y==1)]):\n",
    "            Node.vPredictedClass=1\n",
    "        else:\n",
    "            Node.vPredictedClass=0\n",
    "      \n",
    "\n",
    "    return Node"
   ]
  },
  {
   "cell_type": "code",
   "execution_count": 304,
   "metadata": {},
   "outputs": [
    {
     "name": "stdout",
     "output_type": "stream",
     "text": [
      "(2, 16)\n"
     ]
    }
   ],
   "source": [
    "Threshold=2\n",
    "print(X.T.shape)\n",
    "#Training\n",
    "TrainedTree = createTree(X, Y,ThresholdCount=Threshold)"
   ]
  },
  {
   "cell_type": "code",
   "execution_count": 305,
   "metadata": {},
   "outputs": [],
   "source": [
    "# Prediction/Accuracy Evaluation\n",
    "def predictTree(X,y,Node):\n",
    "    if(len(Node.children)!=0):\n",
    "        SplitFeature=Node.children[0].vSplitFeature\n",
    "        SplitValue=Node.children[0].vSplitValue\n",
    "        X0=X[np.where(X[:,SplitFeature]<=SplitValue)]\n",
    "        Y0=y[np.where(X[:,SplitFeature]<=SplitValue)]             \n",
    "        X1=X[np.where(X[:,SplitFeature]>SplitValue)]\n",
    "        Y1=y[np.where(X[:,SplitFeature]>SplitValue)]\n",
    "        newX1,newY1=predictTree(X0,Y0,Node.children[0])\n",
    "        newX2,newY2=predictTree(X1,Y1,Node.children[1])\n",
    "        newX= np.concatenate((newX1,newX2),axis=0)\n",
    "        newY=np.concatenate((newY1,newY2),axis=0)\n",
    "    else:\n",
    "        newX=X\n",
    "        for i in range(len(y)):\n",
    "            y[i]=Node.vPredictedClass\n",
    "        newY=y\n",
    "    return newX,newY"
   ]
  },
  {
   "cell_type": "code",
   "execution_count": 306,
   "metadata": {},
   "outputs": [],
   "source": [
    "# Accurracy on Training Data\n",
    "def accurracy(Xy,NewXy):\n",
    "    Xy=np.sort(Xy,axis=0)\n",
    "    NewXy=np.sort(NewXy,axis=0)\n",
    "    Y1=Xy[:,-1]\n",
    "    Y2=NewXy[:,-1]\n",
    "    m=np.mean(np.where(Y1==Y2,1,0))    \n",
    "    return m*100"
   ]
  },
  {
   "cell_type": "code",
   "execution_count": 307,
   "metadata": {},
   "outputs": [
    {
     "name": "stdout",
     "output_type": "stream",
     "text": [
      "Traning  accuracy( 100.0 %).\n"
     ]
    }
   ],
   "source": [
    "# Predict using Tree Created\n",
    "newX,newY=predictTree(X,Y,TrainedTree)\n",
    "Xy=np.column_stack((X,Y))          #Merge dataset to sort order again \n",
    "newXy=np.column_stack((newX,newY)) #Compare requires sorting as Tree shuffled the data in leaf nodes\n",
    "Accuracy=accurracy(Xy,newXy)\n",
    "print(\"Traning  accuracy(\",Accuracy,\"%).\")"
   ]
  },
  {
   "cell_type": "code",
   "execution_count": 308,
   "metadata": {},
   "outputs": [],
   "source": [
    "# Plotting Hypothesis\n",
    "def PlotTreeSplit(X,SplitFeature,SplitValue,Level): \n",
    "    x_min, x_max = X[:, 0].min() , X[:, 0].max() \n",
    "    y_min, y_max = X[:, 1].min() , X[:, 1].max()\n",
    "    u = np.linspace(x_min, x_max, 2) \n",
    "    v = np.linspace(y_min, y_max, 2)      \n",
    "    for i in range(len(v)): \n",
    "        if (SplitFeature==0):        \n",
    "            u[i] = SplitValue\n",
    "        else:\n",
    "            v[i] = SplitValue\n",
    "    plt.plot(u, v)\n",
    "    plt.text(u[0],v[0],Level,rotation=90*SplitFeature )\n",
    "    return\n",
    "\n",
    "\n",
    "####################################################################\n",
    "def PlotTree(X,y,Node):\n",
    "    if(len(Node.children)!=0):\n",
    "        SplitFeature=Node.children[0].vSplitFeature\n",
    "        SplitValue=Node.children[0].vSplitValue\n",
    "        Level=Node.children[0].vLevel\n",
    "        X0=X[np.where(X[:,SplitFeature]<=SplitValue)]\n",
    "        Y0=y[np.where(X[:,SplitFeature]<=SplitValue)]     \n",
    "        X1=X[np.where(X[:,SplitFeature]>SplitValue)]\n",
    "        Y1=y[np.where(X[:,SplitFeature]>SplitValue)]\n",
    "        PlotTreeSplit(X,SplitFeature,SplitValue,Level)\n",
    "        PlotTree(X0,Y0,Node.children[0])\n",
    "        PlotTree(X1,Y1,Node.children[1])\n",
    "    else:\n",
    "        plt.scatter(X[np.where(y==1),0],X[np.where(y==1),1],marker=\"+\")\n",
    "        plt.scatter(X[np.where(y!=1),0],X[np.where(y!=1),1],marker=\"o\")\n",
    "    return\n",
    "\n",
    "####################################################################\n",
    "def PlotPoints(X,y):\n",
    "    plt.scatter(X[np.where(y==1),0],X[np.where(y==1),1],marker=\"+\")\n",
    "    plt.scatter(X[np.where(y!=1),0],X[np.where(y!=1),1],marker=\"o\")\n",
    "    return"
   ]
  },
  {
   "cell_type": "code",
   "execution_count": 309,
   "metadata": {},
   "outputs": [
    {
     "data": {
      "image/png": "[encoded data removed]",
      "text/plain": [
       "<Figure size 640x480 with 1 Axes>"
      ]
     },
     "metadata": {},
     "output_type": "display_data"
    }
   ],
   "source": [
    "#%matplotlib notebook\n",
    "plt.subplot(111)  \n",
    "plt.title(\"Training (Threshold=\"+str(Threshold)+\")\")   \n",
    "PlotTree(X,Y,TrainedTree)"
   ]
  },
  {
   "cell_type": "code",
   "execution_count": 310,
   "metadata": {},
   "outputs": [
    {
     "data": {
      "image/png": "[encoded data removed]",
      "text/plain": [
       "<Figure size 640x480 with 1 Axes>"
      ]
     },
     "metadata": {},
     "output_type": "display_data"
    }
   ],
   "source": [
    "plt.subplot(111) \n",
    "plt.title(\"Prediction \"+str(Accuracy)+\"%\")     \n",
    "PlotTree(newX,newY,TrainedTree)\n",
    "plt.show()"
   ]
  },
  {
   "cell_type": "code",
   "execution_count": 311,
   "metadata": {},
   "outputs": [],
   "source": [
    "# Pruning a tree\n",
    "def pruneTree(X,y,Node,ThresholdCount):\n",
    "    if(len(Node.children)!=0):\n",
    "        SplitFeature=Node.children[0].vSplitFeature\n",
    "        SplitValue=Node.children[0].vSplitValue\n",
    "        X0=X[np.where(X[:,SplitFeature]<=SplitValue)]\n",
    "        Y0=y[np.where(X[:,SplitFeature]<=SplitValue)]             \n",
    "        X1=X[np.where(X[:,SplitFeature]>SplitValue)]\n",
    "        Y1=y[np.where(X[:,SplitFeature]>SplitValue)]\n",
    "        if (X0.shape[0]<ThresholdCount or X1.shape[0]<ThresholdCount):\n",
    "            Node.children=[]\n",
    "            PredictedClass=0\n",
    "            PredictedClassLen=0\n",
    "            for i in range(int(y.max()+1)):\n",
    "                if (len(y[np.where(y==i)])>PredictedClassLen):\n",
    "                    PredictedClass=i\n",
    "                    PredictedClassLen=len(y[np.where(y==i)])\n",
    "            Node.vPredictedClass=PredictedClass\n",
    "        else:            \n",
    "            pruneTree(X0,Y0,Node.children[0],ThresholdCount)\n",
    "            pruneTree(X1,Y1,Node.children[1],ThresholdCount)\n",
    "                \n",
    "    return Node"
   ]
  },
  {
   "cell_type": "code",
   "execution_count": 312,
   "metadata": {},
   "outputs": [
    {
     "data": {
      "image/png": "[encoded data removed]",
      "text/plain": [
       "<Figure size 640x480 with 1 Axes>"
      ]
     },
     "metadata": {},
     "output_type": "display_data"
    }
   ],
   "source": [
    "PrunedTree = pruneTree(X, Y, TrainedTree,ThresholdCount=Threshold)\n",
    "newX,newY=predictTree(X,Y,PrunedTree)\n",
    "PlotTree(newX,newY,PrunedTree)\n",
    "plt.show()"
   ]
  }
 ],
 "metadata": {
  "kernelspec": {
   "display_name": "Python 3",
   "language": "python",
   "name": "python3"
  },
  "language_info": {
   "codemirror_mode": {
    "name": "ipython",
    "version": 3
   },
   "file_extension": ".py",
   "mimetype": "text/x-python",
   "name": "python",
   "nbconvert_exporter": "python",
   "pygments_lexer": "ipython3",
   "version": "3.10.9"
  },
  "orig_nbformat": 4,
  "vscode": {
   "interpreter": {
    "hash": "5e3cc65feb8c1a7f24ab3852f011e129c099772a24ef31268d6a22d6e5b7a516"
   }
  }
 },
 "nbformat": 4,
 "nbformat_minor": 2
}
